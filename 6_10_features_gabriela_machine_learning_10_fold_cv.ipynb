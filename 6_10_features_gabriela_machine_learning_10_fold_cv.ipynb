{
 "cells": [
  {
   "cell_type": "markdown",
   "metadata": {
    "colab_type": "text",
    "id": "1MYcAJMMcrQ_"
   },
   "source": [
    "### 1. Carrega o arquivo com as features e classificação"
   ]
  },
  {
   "cell_type": "code",
   "execution_count": 1,
   "metadata": {
    "colab": {},
    "colab_type": "code",
    "id": "kYEL5--rcrRB"
   },
   "outputs": [],
   "source": [
    "import pandas as pd\n",
    "\n",
    "data_frame = pd.read_csv('tamanho200_3.csv') ## tamanho_2000.csv (old_dataset)"
   ]
  },
  {
   "cell_type": "code",
   "execution_count": 2,
   "metadata": {
    "colab": {},
    "colab_type": "code",
    "id": "Vshe0bVGcrRE",
    "outputId": "ec746275-4d37-4ae9-de3c-b331ca295aa9"
   },
   "outputs": [
    {
     "data": {
      "text/html": [
       "<div>\n",
       "<style scoped>\n",
       "    .dataframe tbody tr th:only-of-type {\n",
       "        vertical-align: middle;\n",
       "    }\n",
       "\n",
       "    .dataframe tbody tr th {\n",
       "        vertical-align: top;\n",
       "    }\n",
       "\n",
       "    .dataframe thead th {\n",
       "        text-align: right;\n",
       "    }\n",
       "</style>\n",
       "<table border=\"1\" class=\"dataframe\">\n",
       "  <thead>\n",
       "    <tr style=\"text-align: right;\">\n",
       "      <th></th>\n",
       "      <th>adj_polaridade_positiva</th>\n",
       "      <th>pont_repetida</th>\n",
       "      <th>entidade_nomeada</th>\n",
       "      <th>disparadores</th>\n",
       "      <th>expressoes</th>\n",
       "      <th>letras_repetidas</th>\n",
       "      <th>palavras_repetidas</th>\n",
       "      <th>aspas</th>\n",
       "      <th>intensificadores</th>\n",
       "      <th>modificadores</th>\n",
       "      <th>liwc</th>\n",
       "      <th>rotulo</th>\n",
       "      <th>sentenca</th>\n",
       "    </tr>\n",
       "  </thead>\n",
       "  <tbody>\n",
       "    <tr>\n",
       "      <th>0</th>\n",
       "      <td>0.0</td>\n",
       "      <td>0.0</td>\n",
       "      <td>1.0</td>\n",
       "      <td>1.0</td>\n",
       "      <td>0.0</td>\n",
       "      <td>0.0</td>\n",
       "      <td>0.0</td>\n",
       "      <td>0.0</td>\n",
       "      <td>0.0</td>\n",
       "      <td>0.0</td>\n",
       "      <td>0.5</td>\n",
       "      <td>1.0</td>\n",
       "      <td>Parece estar no Reino da Dinamarca.</td>\n",
       "    </tr>\n",
       "  </tbody>\n",
       "</table>\n",
       "</div>"
      ],
      "text/plain": [
       "   adj_polaridade_positiva  pont_repetida  entidade_nomeada  disparadores  \\\n",
       "0                      0.0            0.0               1.0           1.0   \n",
       "\n",
       "   expressoes  letras_repetidas  palavras_repetidas  aspas  intensificadores  \\\n",
       "0         0.0               0.0                 0.0    0.0               0.0   \n",
       "\n",
       "   modificadores  liwc  rotulo                             sentenca  \n",
       "0            0.0   0.5     1.0  Parece estar no Reino da Dinamarca.  "
      ]
     },
     "execution_count": 2,
     "metadata": {},
     "output_type": "execute_result"
    }
   ],
   "source": [
    "data_frame.head(1)"
   ]
  },
  {
   "cell_type": "markdown",
   "metadata": {
    "colab_type": "text",
    "id": "u1mphEajcrRJ"
   },
   "source": [
    "### 2. Aplica os algoritmos de Machine Learning (SVM, Árvore Decisão, Regressão Logística e RNA)"
   ]
  },
  {
   "cell_type": "code",
   "execution_count": 3,
   "metadata": {
    "colab": {},
    "colab_type": "code",
    "id": "kIcGiATUcrRK",
    "outputId": "827dd1a5-f0ce-4590-9bf9-b48552a42369"
   },
   "outputs": [
    {
     "data": {
      "text/plain": [
       "((400, 10), (400,))"
      ]
     },
     "execution_count": 3,
     "metadata": {},
     "output_type": "execute_result"
    }
   ],
   "source": [
    "inputs = data_frame.iloc[:,0:10].values #sem LIWC 0:10\n",
    "outputs = data_frame['rotulo']\n",
    "\n",
    "inputs.shape, outputs.shape"
   ]
  },
  {
   "cell_type": "markdown",
   "metadata": {
    "colab_type": "text",
    "id": "PkVMvBbfcrRN"
   },
   "source": [
    "#### 2.1. Utiliza 10-Fold Cross Validation para realizar os testes"
   ]
  },
  {
   "cell_type": "code",
   "execution_count": 4,
   "metadata": {},
   "outputs": [],
   "source": [
    "from sklearn.model_selection import cross_val_score"
   ]
  },
  {
   "cell_type": "code",
   "execution_count": 24,
   "metadata": {
    "colab": {},
    "colab_type": "code",
    "id": "TESm7S16crRU",
    "outputId": "3ddb255d-3773-4153-89b0-24be0b25b9f2"
   },
   "outputs": [
    {
     "name": "stdout",
     "output_type": "stream",
     "text": [
      "[0.55  0.525 0.525 0.65  0.4   0.5   0.525 0.575 0.55  0.475]\n",
      "F1: 0.527 (+/- 0.12)\n",
      "Precision: 0.578 (+/- 0.30)\n",
      "Accuracy: 0.535 (+/- 0.14)\n",
      "Recall: 0.300 (+/- 0.26)\n"
     ]
    }
   ],
   "source": [
    "from sklearn import tree\n",
    "classificador = tree.DecisionTreeClassifier()\n",
    "\n",
    "scores = cross_val_score(classificador, inputs, outputs, cv=10, scoring='f1_micro')\n",
    "print(scores)\n",
    "print(\"F1: %0.3f (+/- %0.2f)\" % (scores.mean(), scores.std() * 2))\n",
    "\n",
    "scores = cross_val_score(classificador, inputs, outputs, cv=10, scoring='precision')\n",
    "# print(scores)\n",
    "print(\"Precision: %0.3f (+/- %0.2f)\" % (scores.mean(), scores.std() * 2))\n",
    "\n",
    "scores = cross_val_score(classificador, inputs, outputs, cv=10, scoring='accuracy')\n",
    "# print(scores)\n",
    "print(\"Accuracy: %0.3f (+/- %0.2f)\" % (scores.mean(), scores.std() * 2))\n",
    "\n",
    "scores = cross_val_score(classificador, inputs, outputs, cv=10, scoring='recall')\n",
    "# print(scores)\n",
    "print(\"Recall: %0.3f (+/- %0.2f)\" % (scores.mean(), scores.std() * 2))"
   ]
  },
  {
   "cell_type": "code",
   "execution_count": 6,
   "metadata": {
    "colab": {},
    "colab_type": "code",
    "id": "uHRC8IvocrRX",
    "outputId": "346b905c-a253-4a88-a8e7-1cb533cc0719"
   },
   "outputs": [
    {
     "name": "stdout",
     "output_type": "stream",
     "text": [
      "F1: 0.570 (+/- 0.13)\n",
      "Precision: 0.620 (+/- 0.20)\n",
      "Accuracy: 0.570 (+/- 0.13)\n",
      "Recall: 0.390 (+/- 0.34)\n"
     ]
    }
   ],
   "source": [
    "from sklearn.linear_model import LogisticRegression\n",
    "classificador = LogisticRegression(solver='lbfgs')\n",
    "\n",
    "scores = cross_val_score(classificador, inputs, outputs, cv=10, scoring='f1_micro')\n",
    "# print(scores)\n",
    "print(\"F1: %0.3f (+/- %0.2f)\" % (scores.mean(), scores.std() * 2))\n",
    "\n",
    "scores = cross_val_score(classificador, inputs, outputs, cv=10, scoring='precision')\n",
    "# print(scores)\n",
    "print(\"Precision: %0.3f (+/- %0.2f)\" % (scores.mean(), scores.std() * 2))\n",
    "\n",
    "scores = cross_val_score(classificador, inputs, outputs, cv=10, scoring='accuracy')\n",
    "# print(scores)\n",
    "print(\"Accuracy: %0.3f (+/- %0.2f)\" % (scores.mean(), scores.std() * 2))\n",
    "\n",
    "scores = cross_val_score(classificador, inputs, outputs, cv=10, scoring='recall')\n",
    "# print(scores)\n",
    "print(\"Recall: %0.3f (+/- %0.2f)\" % (scores.mean(), scores.std() * 2))"
   ]
  },
  {
   "cell_type": "code",
   "execution_count": 7,
   "metadata": {
    "colab": {},
    "colab_type": "code",
    "id": "mbeSzmBscrRb",
    "outputId": "93119d4c-6f4f-49ed-f554-84056f05db2e"
   },
   "outputs": [
    {
     "name": "stdout",
     "output_type": "stream",
     "text": [
      "F1: 0.622 (+/- 0.18)\n",
      "Precision: 0.732 (+/- 0.25)\n",
      "Accuracy: 0.622 (+/- 0.18)\n",
      "Recall: 0.395 (+/- 0.33)\n"
     ]
    }
   ],
   "source": [
    "from sklearn import svm\n",
    "\n",
    "classificador = svm.SVC(gamma='auto', C=1.0, kernel='linear', probability=True)\n",
    "\n",
    "scores = cross_val_score(classificador, inputs, outputs, cv=10, scoring='f1_micro')\n",
    "# print(scores)\n",
    "print(\"F1: %0.3f (+/- %0.2f)\" % (scores.mean(), scores.std() * 2))\n",
    "\n",
    "scores = cross_val_score(classificador, inputs, outputs, cv=10, scoring='precision')\n",
    "# print(scores)\n",
    "print(\"Precision: %0.3f (+/- %0.2f)\" % (scores.mean(), scores.std() * 2))\n",
    "\n",
    "scores = cross_val_score(classificador, inputs, outputs, cv=10, scoring='accuracy')\n",
    "# print(scores)\n",
    "print(\"Accuracy: %0.3f (+/- %0.2f)\" % (scores.mean(), scores.std() * 2))\n",
    "\n",
    "scores = cross_val_score(classificador, inputs, outputs, cv=10, scoring='recall')\n",
    "# print(scores)\n",
    "print(\"Recall: %0.3f (+/- %0.2f)\" % (scores.mean(), scores.std() * 2))"
   ]
  },
  {
   "cell_type": "code",
   "execution_count": 8,
   "metadata": {},
   "outputs": [
    {
     "name": "stdout",
     "output_type": "stream",
     "text": [
      "0\n",
      "Precision: 0.548 (+/- 0.19)\n",
      "1\n",
      "Precision: 0.554 (+/- 0.19)\n",
      "2\n",
      "Precision: 0.577 (+/- 0.23)\n",
      "3\n",
      "Precision: 0.562 (+/- 0.21)\n",
      "4\n",
      "Precision: 0.558 (+/- 0.21)\n",
      "5\n",
      "Precision: 0.564 (+/- 0.21)\n",
      "6\n",
      "Precision: 0.562 (+/- 0.21)\n",
      "7\n",
      "Precision: 0.554 (+/- 0.20)\n",
      "8\n",
      "Precision: 0.558 (+/- 0.21)\n",
      "9\n",
      "Precision: 0.552 (+/- 0.22)\n",
      "10\n",
      "Precision: 0.546 (+/- 0.19)\n",
      "11\n",
      "Precision: 0.558 (+/- 0.20)\n",
      "12\n",
      "Precision: 0.566 (+/- 0.22)\n",
      "13\n",
      "Precision: 0.548 (+/- 0.21)\n",
      "14\n",
      "Precision: 0.569 (+/- 0.24)\n",
      "15\n",
      "Precision: 0.563 (+/- 0.21)\n",
      "16\n",
      "Precision: 0.554 (+/- 0.20)\n",
      "17\n",
      "Precision: 0.543 (+/- 0.19)\n",
      "18\n",
      "Precision: 0.551 (+/- 0.19)\n",
      "19\n",
      "Precision: 0.557 (+/- 0.20)\n",
      "20\n",
      "Precision: 0.561 (+/- 0.22)\n",
      "21\n",
      "Precision: 0.557 (+/- 0.20)\n",
      "22\n",
      "Precision: 0.559 (+/- 0.22)\n",
      "23\n",
      "Precision: 0.556 (+/- 0.21)\n",
      "24\n",
      "Precision: 0.561 (+/- 0.21)\n",
      "25\n",
      "Precision: 0.550 (+/- 0.20)\n",
      "26\n",
      "Precision: 0.553 (+/- 0.19)\n",
      "27\n",
      "Precision: 0.553 (+/- 0.19)\n",
      "28\n",
      "Precision: 0.553 (+/- 0.19)\n",
      "29\n",
      "Precision: 0.555 (+/- 0.20)\n",
      "30\n",
      "Precision: 0.560 (+/- 0.21)\n",
      "31\n",
      "Precision: 0.537 (+/- 0.17)\n",
      "32\n",
      "Precision: 0.567 (+/- 0.24)\n",
      "33\n",
      "Precision: 0.556 (+/- 0.20)\n",
      "34\n",
      "Precision: 0.554 (+/- 0.20)\n",
      "35\n",
      "Precision: 0.547 (+/- 0.18)\n",
      "36\n",
      "Precision: 0.539 (+/- 0.19)\n",
      "37\n",
      "Precision: 0.564 (+/- 0.20)\n",
      "38\n",
      "Precision: 0.554 (+/- 0.19)\n",
      "39\n",
      "Precision: 0.554 (+/- 0.21)\n",
      "40\n",
      "Precision: 0.564 (+/- 0.24)\n",
      "41\n",
      "Precision: 0.569 (+/- 0.22)\n",
      "42\n",
      "Precision: 0.563 (+/- 0.21)\n",
      "43\n",
      "Precision: 0.557 (+/- 0.20)\n",
      "44\n",
      "Precision: 0.557 (+/- 0.20)\n",
      "45\n",
      "Precision: 0.562 (+/- 0.21)\n",
      "46\n",
      "Precision: 0.559 (+/- 0.23)\n",
      "47\n",
      "Precision: 0.562 (+/- 0.20)\n",
      "48\n",
      "Precision: 0.558 (+/- 0.21)\n",
      "49\n",
      "Precision: 0.554 (+/- 0.19)\n"
     ]
    }
   ],
   "source": [
    "from sklearn.neural_network import MLPClassifier\n",
    "\n",
    "for i in range(0,50):\n",
    "    classificador = MLPClassifier(activation='relu', max_iter=10000, solver='adam', alpha=1e-10, random_state=i)\n",
    "\n",
    "# scores = cross_val_score(classificador, inputs, outputs, cv=10, scoring='f1_micro')\n",
    "# # print(scores)\n",
    "# print(\"F1: %0.3f (+/- %0.2f)\" % (scores.mean(), scores.std() * 2))\n",
    "\n",
    "    scores = cross_val_score(classificador, inputs, outputs, cv=10, scoring='precision')\n",
    "    print(i)\n",
    "    print(\"Precision: %0.3f (+/- %0.2f)\" % (scores.mean(), scores.std() * 2))\n",
    "\n",
    "# scores = cross_val_score(classificador, inputs, outputs, cv=10, scoring='accuracy')\n",
    "# # print(scores)\n",
    "# print(\"Accuracy: %0.3f (+/- %0.2f)\" % (scores.mean(), scores.std() * 2))\n",
    "\n",
    "# scores = cross_val_score(classificador, inputs, outputs, cv=10, scoring='recall')\n",
    "# # print(scores)\n",
    "# print(\"Recall: %0.3f (+/- %0.2f)\" % (scores.mean(), scores.std() * 2))"
   ]
  },
  {
   "cell_type": "code",
   "execution_count": 25,
   "metadata": {
    "colab": {},
    "colab_type": "code",
    "id": "RoFeHqkKcrRe",
    "outputId": "02c77420-b197-4fab-ab34-05e661a735ec"
   },
   "outputs": [
    {
     "name": "stdout",
     "output_type": "stream",
     "text": [
      "F1: 0.550 (+/- 0.14)\n",
      "Precision: 0.577 (+/- 0.23)\n",
      "Accuracy: 0.550 (+/- 0.14)\n",
      "Recall: 0.370 (+/- 0.26)\n"
     ]
    }
   ],
   "source": [
    "from sklearn.neural_network import MLPClassifier\n",
    "\n",
    "classificador = MLPClassifier(activation='relu', max_iter=10000, solver='adam', alpha=1e-10, random_state=2)\n",
    "\n",
    "scores = cross_val_score(classificador, inputs, outputs, cv=10, scoring='f1_micro')\n",
    "# print(scores)\n",
    "print(\"F1: %0.3f (+/- %0.2f)\" % (scores.mean(), scores.std() * 2))\n",
    "\n",
    "scores = cross_val_score(classificador, inputs, outputs, cv=10, scoring='precision')\n",
    "# print(scores)\n",
    "print(\"Precision: %0.3f (+/- %0.2f)\" % (scores.mean(), scores.std() * 2))\n",
    "\n",
    "scores = cross_val_score(classificador, inputs, outputs, cv=10, scoring='accuracy')\n",
    "# print(scores)\n",
    "print(\"Accuracy: %0.3f (+/- %0.2f)\" % (scores.mean(), scores.std() * 2))\n",
    "\n",
    "scores = cross_val_score(classificador, inputs, outputs, cv=10, scoring='recall')\n",
    "# print(scores)\n",
    "print(\"Recall: %0.3f (+/- %0.2f)\" % (scores.mean(), scores.std() * 2))"
   ]
  },
  {
   "cell_type": "markdown",
   "metadata": {
    "colab": {},
    "colab_type": "code",
    "id": "9YTecDu2crRi"
   },
   "source": [
    "### Matrizes de Confusão"
   ]
  },
  {
   "cell_type": "code",
   "execution_count": 10,
   "metadata": {
    "colab": {},
    "colab_type": "code",
    "id": "uZVs5jxmcrRm",
    "outputId": "d78b5dad-bc65-452f-c8fa-d4b6066e7bbd"
   },
   "outputs": [
    {
     "name": "stdout",
     "output_type": "stream",
     "text": [
      "[[150  50]\n",
      " [140  60]]\n",
      "[[150  50]\n",
      " [122  78]]\n",
      "[[170  30]\n",
      " [121  79]]\n",
      "[[144  56]\n",
      " [127  73]]\n"
     ]
    }
   ],
   "source": [
    "from sklearn import tree\n",
    "classificador = tree.DecisionTreeClassifier()\n",
    "\n",
    "from sklearn.model_selection import cross_val_predict\n",
    "y_pred = cross_val_predict(classificador, inputs, outputs, cv=10)\n",
    "\n",
    "from sklearn.metrics import confusion_matrix\n",
    "conf_mat = confusion_matrix(outputs, y_pred)\n",
    "\n",
    "print(conf_mat)\n",
    "\n",
    "\n",
    "\n",
    "from sklearn.linear_model import LogisticRegression\n",
    "classificador = LogisticRegression(solver='lbfgs')\n",
    "\n",
    "from sklearn.model_selection import cross_val_predict\n",
    "y_pred = cross_val_predict(classificador, inputs, outputs, cv=10)\n",
    "\n",
    "from sklearn.metrics import confusion_matrix\n",
    "conf_mat = confusion_matrix(outputs, y_pred)\n",
    "\n",
    "print(conf_mat)\n",
    "\n",
    "\n",
    "\n",
    "from sklearn import svm\n",
    "classificador = svm.SVC(gamma='auto', C=1.0, kernel='linear', probability=True)\n",
    "\n",
    "from sklearn.model_selection import cross_val_predict\n",
    "y_pred = cross_val_predict(classificador, inputs, outputs, cv=10)\n",
    "\n",
    "from sklearn.metrics import confusion_matrix\n",
    "conf_mat = confusion_matrix(outputs, y_pred)\n",
    "\n",
    "print(conf_mat)\n",
    "\n",
    "\n",
    "\n",
    "from sklearn.neural_network import MLPClassifier\n",
    "classificador = MLPClassifier(activation='relu', max_iter=10000, solver='adam', alpha=1e-10)\n",
    "\n",
    "from sklearn.model_selection import cross_val_predict\n",
    "y_pred = cross_val_predict(classificador, inputs, outputs, cv=10)\n",
    "\n",
    "from sklearn.metrics import confusion_matrix\n",
    "conf_mat = confusion_matrix(outputs, y_pred)\n",
    "\n",
    "print(conf_mat)\n",
    "\n"
   ]
  },
  {
   "cell_type": "code",
   "execution_count": null,
   "metadata": {
    "colab": {},
    "colab_type": "code",
    "id": "TcYBOHrDcrRp"
   },
   "outputs": [],
   "source": []
  }
 ],
 "metadata": {
  "colab": {
   "name": "2c_features_gabriela_liwc_machine_learning_10_fold_cross_validation.ipynb",
   "provenance": [],
   "version": "0.3.2"
  },
  "kernelspec": {
   "display_name": "Python 3",
   "language": "python",
   "name": "python3"
  },
  "language_info": {
   "codemirror_mode": {
    "name": "ipython",
    "version": 3
   },
   "file_extension": ".py",
   "mimetype": "text/x-python",
   "name": "python",
   "nbconvert_exporter": "python",
   "pygments_lexer": "ipython3",
   "version": "3.7.3"
  }
 },
 "nbformat": 4,
 "nbformat_minor": 1
}
