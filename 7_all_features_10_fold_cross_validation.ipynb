{
 "cells": [
  {
   "cell_type": "markdown",
   "metadata": {},
   "source": [
    "### 1. Carrega o arquivo com as features e classificação"
   ]
  },
  {
   "cell_type": "code",
   "execution_count": 1,
   "metadata": {},
   "outputs": [],
   "source": [
    "import pandas as pd\n",
    "\n",
    "data_frame = pd.read_csv('dataset_features.csv') ## tamanho_2000.csv (old_dataset)"
   ]
  },
  {
   "cell_type": "code",
   "execution_count": 2,
   "metadata": {},
   "outputs": [
    {
     "data": {
      "text/html": [
       "<div>\n",
       "<style scoped>\n",
       "    .dataframe tbody tr th:only-of-type {\n",
       "        vertical-align: middle;\n",
       "    }\n",
       "\n",
       "    .dataframe tbody tr th {\n",
       "        vertical-align: top;\n",
       "    }\n",
       "\n",
       "    .dataframe thead th {\n",
       "        text-align: right;\n",
       "    }\n",
       "</style>\n",
       "<table border=\"1\" class=\"dataframe\">\n",
       "  <thead>\n",
       "    <tr style=\"text-align: right;\">\n",
       "      <th></th>\n",
       "      <th>classificacao</th>\n",
       "      <th>entidades_nomeadas</th>\n",
       "      <th>adjetivos</th>\n",
       "      <th>triggers</th>\n",
       "      <th>intensifiers</th>\n",
       "      <th>modifiers</th>\n",
       "      <th>quotation_marks</th>\n",
       "      <th>repeated_punctuation</th>\n",
       "      <th>letters_repetition</th>\n",
       "      <th>word_repetition</th>\n",
       "    </tr>\n",
       "  </thead>\n",
       "  <tbody>\n",
       "    <tr>\n",
       "      <th>0</th>\n",
       "      <td>1</td>\n",
       "      <td>0</td>\n",
       "      <td>1</td>\n",
       "      <td>1</td>\n",
       "      <td>1</td>\n",
       "      <td>1</td>\n",
       "      <td>0</td>\n",
       "      <td>0</td>\n",
       "      <td>0</td>\n",
       "      <td>0</td>\n",
       "    </tr>\n",
       "    <tr>\n",
       "      <th>1</th>\n",
       "      <td>1</td>\n",
       "      <td>0</td>\n",
       "      <td>0</td>\n",
       "      <td>1</td>\n",
       "      <td>0</td>\n",
       "      <td>1</td>\n",
       "      <td>0</td>\n",
       "      <td>1</td>\n",
       "      <td>0</td>\n",
       "      <td>0</td>\n",
       "    </tr>\n",
       "    <tr>\n",
       "      <th>2</th>\n",
       "      <td>1</td>\n",
       "      <td>0</td>\n",
       "      <td>0</td>\n",
       "      <td>1</td>\n",
       "      <td>0</td>\n",
       "      <td>1</td>\n",
       "      <td>0</td>\n",
       "      <td>0</td>\n",
       "      <td>1</td>\n",
       "      <td>0</td>\n",
       "    </tr>\n",
       "    <tr>\n",
       "      <th>3</th>\n",
       "      <td>1</td>\n",
       "      <td>1</td>\n",
       "      <td>0</td>\n",
       "      <td>1</td>\n",
       "      <td>0</td>\n",
       "      <td>1</td>\n",
       "      <td>1</td>\n",
       "      <td>1</td>\n",
       "      <td>0</td>\n",
       "      <td>0</td>\n",
       "    </tr>\n",
       "    <tr>\n",
       "      <th>4</th>\n",
       "      <td>1</td>\n",
       "      <td>0</td>\n",
       "      <td>0</td>\n",
       "      <td>1</td>\n",
       "      <td>0</td>\n",
       "      <td>0</td>\n",
       "      <td>0</td>\n",
       "      <td>1</td>\n",
       "      <td>0</td>\n",
       "      <td>0</td>\n",
       "    </tr>\n",
       "  </tbody>\n",
       "</table>\n",
       "</div>"
      ],
      "text/plain": [
       "   classificacao  entidades_nomeadas  adjetivos  triggers  intensifiers  \\\n",
       "0              1                   0          1         1             1   \n",
       "1              1                   0          0         1             0   \n",
       "2              1                   0          0         1             0   \n",
       "3              1                   1          0         1             0   \n",
       "4              1                   0          0         1             0   \n",
       "\n",
       "   modifiers  quotation_marks  repeated_punctuation  letters_repetition  \\\n",
       "0          1                0                     0                   0   \n",
       "1          1                0                     1                   0   \n",
       "2          1                0                     0                   1   \n",
       "3          1                1                     1                   0   \n",
       "4          0                0                     1                   0   \n",
       "\n",
       "   word_repetition  \n",
       "0                0  \n",
       "1                0  \n",
       "2                0  \n",
       "3                0  \n",
       "4                0  "
      ]
     },
     "execution_count": 2,
     "metadata": {},
     "output_type": "execute_result"
    }
   ],
   "source": [
    "data_frame.head()"
   ]
  },
  {
   "cell_type": "markdown",
   "metadata": {},
   "source": [
    "### 2. Aplica os algoritmos de Machine Learning (SVM, Árvore Decisão, Regressão Logística e RNA)"
   ]
  },
  {
   "cell_type": "code",
   "execution_count": 3,
   "metadata": {},
   "outputs": [
    {
     "data": {
      "text/plain": [
       "((4000, 9), (4000,))"
      ]
     },
     "execution_count": 3,
     "metadata": {},
     "output_type": "execute_result"
    }
   ],
   "source": [
    "inputs = data_frame.iloc[:,1:10].values\n",
    "outputs = data_frame['classificacao']\n",
    "\n",
    "inputs.shape, outputs.shape"
   ]
  },
  {
   "cell_type": "markdown",
   "metadata": {},
   "source": [
    "#### 2.1. Utiliza 10-Fold Cross Validation para realizar os testes"
   ]
  },
  {
   "cell_type": "markdown",
   "metadata": {},
   "source": [
    "#### XGBoost"
   ]
  },
  {
   "cell_type": "code",
   "execution_count": 4,
   "metadata": {},
   "outputs": [],
   "source": [
    "from sklearn.model_selection import cross_val_score"
   ]
  },
  {
   "cell_type": "code",
   "execution_count": 5,
   "metadata": {},
   "outputs": [],
   "source": [
    "# from xgboost import XGBClassifier\n",
    "# classificador = XGBClassifier()\n",
    "\n",
    "# scores = cross_val_score(classificador, inputs, outputs, cv=10, scoring='f1_micro')\n",
    "# print(scores)\n",
    "# print(\"F1: %0.2f (+/- %0.2f)\" % (scores.mean(), scores.std() * 2))\n",
    "\n",
    "# scores = cross_val_score(classificador, inputs, outputs, cv=10, scoring='precision')\n",
    "# # print(scores)\n",
    "# print(\"Precision: %0.2f (+/- %0.2f)\" % (scores.mean(), scores.std() * 2))\n",
    "\n",
    "# scores = cross_val_score(classificador, inputs, outputs, cv=10, scoring='accuracy')\n",
    "# # print(scores)\n",
    "# print(\"Accuracy: %0.2f (+/- %0.2f)\" % (scores.mean(), scores.std() * 2))\n",
    "\n",
    "# scores = cross_val_score(classificador, inputs, outputs, cv=10, scoring='recall')\n",
    "# # print(scores)\n",
    "# print(\"Recall: %0.2f (+/- %0.2f)\" % (scores.mean(), scores.std() * 2))"
   ]
  },
  {
   "cell_type": "code",
   "execution_count": 5,
   "metadata": {},
   "outputs": [
    {
     "name": "stdout",
     "output_type": "stream",
     "text": [
      "[0.62   0.5825 0.5425 0.5225 0.58   0.6125 0.595  0.5475 0.5325 0.55  ]\n",
      "F1: 0.569 (+/- 0.06)\n",
      "Precision: 0.606 (+/- 0.09)\n",
      "Accuracy: 0.569 (+/- 0.06)\n",
      "Recall: 0.386 (+/- 0.11)\n"
     ]
    }
   ],
   "source": [
    "from sklearn import tree\n",
    "classificador = tree.DecisionTreeClassifier()\n",
    "\n",
    "scores = cross_val_score(classificador, inputs, outputs, cv=10, scoring='f1_micro')\n",
    "print(scores)\n",
    "print(\"F1: %0.3f (+/- %0.2f)\" % (scores.mean(), scores.std() * 2))\n",
    "\n",
    "scores = cross_val_score(classificador, inputs, outputs, cv=10, scoring='precision')\n",
    "# print(scores)\n",
    "print(\"Precision: %0.3f (+/- %0.2f)\" % (scores.mean(), scores.std() * 2))\n",
    "\n",
    "scores = cross_val_score(classificador, inputs, outputs, cv=10, scoring='accuracy')\n",
    "# print(scores)\n",
    "print(\"Accuracy: %0.3f (+/- %0.2f)\" % (scores.mean(), scores.std() * 2))\n",
    "\n",
    "scores = cross_val_score(classificador, inputs, outputs, cv=10, scoring='recall')\n",
    "# print(scores)\n",
    "print(\"Recall: %0.3f (+/- %0.2f)\" % (scores.mean(), scores.std() * 2))"
   ]
  },
  {
   "cell_type": "code",
   "execution_count": 6,
   "metadata": {},
   "outputs": [
    {
     "name": "stdout",
     "output_type": "stream",
     "text": [
      "F1: 0.575 (+/- 0.06)\n",
      "Precision: 0.613 (+/- 0.08)\n",
      "Accuracy: 0.575 (+/- 0.06)\n",
      "Recall: 0.402 (+/- 0.11)\n"
     ]
    }
   ],
   "source": [
    "from sklearn.linear_model import LogisticRegression\n",
    "classificador = LogisticRegression(solver='lbfgs')\n",
    "\n",
    "scores = cross_val_score(classificador, inputs, outputs, cv=10, scoring='f1_micro')\n",
    "# print(scores)\n",
    "print(\"F1: %0.3f (+/- %0.2f)\" % (scores.mean(), scores.std() * 2))\n",
    "\n",
    "scores = cross_val_score(classificador, inputs, outputs, cv=10, scoring='precision')\n",
    "# print(scores)\n",
    "print(\"Precision: %0.3f (+/- %0.2f)\" % (scores.mean(), scores.std() * 2))\n",
    "\n",
    "scores = cross_val_score(classificador, inputs, outputs, cv=10, scoring='accuracy')\n",
    "# print(scores)\n",
    "print(\"Accuracy: %0.3f (+/- %0.2f)\" % (scores.mean(), scores.std() * 2))\n",
    "\n",
    "scores = cross_val_score(classificador, inputs, outputs, cv=10, scoring='recall')\n",
    "# print(scores)\n",
    "print(\"Recall: %0.3f (+/- %0.2f)\" % (scores.mean(), scores.std() * 2))"
   ]
  },
  {
   "cell_type": "code",
   "execution_count": 7,
   "metadata": {},
   "outputs": [
    {
     "name": "stdout",
     "output_type": "stream",
     "text": [
      "F1: 0.564 (+/- 0.06)\n",
      "Precision: 0.609 (+/- 0.09)\n",
      "Accuracy: 0.564 (+/- 0.06)\n",
      "Recall: 0.355 (+/- 0.11)\n"
     ]
    }
   ],
   "source": [
    "from sklearn import svm\n",
    "\n",
    "classificador = svm.SVC(gamma='auto', C=1.0, kernel='linear', probability=True)\n",
    "\n",
    "scores = cross_val_score(classificador, inputs, outputs, cv=10, scoring='f1_micro')\n",
    "# print(scores)\n",
    "print(\"F1: %0.3f (+/- %0.2f)\" % (scores.mean(), scores.std() * 2))\n",
    "\n",
    "scores = cross_val_score(classificador, inputs, outputs, cv=10, scoring='precision')\n",
    "# print(scores)\n",
    "print(\"Precision: %0.3f (+/- %0.2f)\" % (scores.mean(), scores.std() * 2))\n",
    "\n",
    "scores = cross_val_score(classificador, inputs, outputs, cv=10, scoring='accuracy')\n",
    "# print(scores)\n",
    "print(\"Accuracy: %0.3f (+/- %0.2f)\" % (scores.mean(), scores.std() * 2))\n",
    "\n",
    "scores = cross_val_score(classificador, inputs, outputs, cv=10, scoring='recall')\n",
    "# print(scores)\n",
    "print(\"Recall: %0.3f (+/- %0.2f)\" % (scores.mean(), scores.std() * 2))"
   ]
  },
  {
   "cell_type": "code",
   "execution_count": 5,
   "metadata": {},
   "outputs": [
    {
     "name": "stdout",
     "output_type": "stream",
     "text": [
      "0\n",
      "Precision: 0.609 (+/- 0.08)\n",
      "1\n",
      "Precision: 0.610 (+/- 0.08)\n",
      "2\n",
      "Precision: 0.610 (+/- 0.08)\n",
      "3\n",
      "Precision: 0.600 (+/- 0.12)\n",
      "4\n",
      "Precision: 0.610 (+/- 0.08)\n",
      "5\n",
      "Precision: 0.607 (+/- 0.09)\n",
      "6\n",
      "Precision: 0.613 (+/- 0.09)\n",
      "7\n",
      "Precision: 0.610 (+/- 0.08)\n",
      "8\n",
      "Precision: 0.614 (+/- 0.09)\n",
      "9\n",
      "Precision: 0.611 (+/- 0.09)\n",
      "10\n",
      "Precision: 0.608 (+/- 0.08)\n",
      "11\n",
      "Precision: 0.609 (+/- 0.08)\n",
      "12\n",
      "Precision: 0.597 (+/- 0.12)\n",
      "13\n",
      "Precision: 0.609 (+/- 0.08)\n",
      "14\n",
      "Precision: 0.611 (+/- 0.09)\n",
      "15\n",
      "Precision: 0.609 (+/- 0.08)\n",
      "16\n",
      "Precision: 0.595 (+/- 0.12)\n",
      "17\n",
      "Precision: 0.611 (+/- 0.08)\n",
      "18\n",
      "Precision: 0.608 (+/- 0.08)\n",
      "19\n",
      "Precision: 0.607 (+/- 0.08)\n",
      "20\n",
      "Precision: 0.609 (+/- 0.08)\n",
      "21\n",
      "Precision: 0.602 (+/- 0.13)\n",
      "22\n",
      "Precision: 0.610 (+/- 0.09)\n",
      "23\n",
      "Precision: 0.610 (+/- 0.08)\n",
      "24\n",
      "Precision: 0.601 (+/- 0.12)\n",
      "25\n",
      "Precision: 0.603 (+/- 0.13)\n",
      "26\n",
      "Precision: 0.608 (+/- 0.08)\n",
      "27\n",
      "Precision: 0.600 (+/- 0.12)\n",
      "28\n",
      "Precision: 0.611 (+/- 0.08)\n",
      "29\n",
      "Precision: 0.614 (+/- 0.08)\n",
      "30\n",
      "Precision: 0.602 (+/- 0.13)\n",
      "31\n",
      "Precision: 0.610 (+/- 0.08)\n",
      "32\n",
      "Precision: 0.609 (+/- 0.08)\n",
      "33\n",
      "Precision: 0.613 (+/- 0.09)\n",
      "34\n",
      "Precision: 0.602 (+/- 0.12)\n",
      "35\n",
      "Precision: 0.611 (+/- 0.08)\n",
      "36\n",
      "Precision: 0.609 (+/- 0.09)\n",
      "37\n",
      "Precision: 0.611 (+/- 0.08)\n",
      "38\n",
      "Precision: 0.613 (+/- 0.09)\n",
      "39\n",
      "Precision: 0.612 (+/- 0.08)\n",
      "40\n",
      "Precision: 0.611 (+/- 0.08)\n",
      "41\n",
      "Precision: 0.601 (+/- 0.12)\n",
      "42\n",
      "Precision: 0.600 (+/- 0.13)\n",
      "43\n",
      "Precision: 0.614 (+/- 0.08)\n",
      "44\n",
      "Precision: 0.610 (+/- 0.09)\n",
      "45\n",
      "Precision: 0.606 (+/- 0.08)\n",
      "46\n",
      "Precision: 0.609 (+/- 0.08)\n",
      "47\n",
      "Precision: 0.616 (+/- 0.09)\n",
      "48\n",
      "Precision: 0.610 (+/- 0.09)\n",
      "49\n",
      "Precision: 0.610 (+/- 0.08)\n"
     ]
    }
   ],
   "source": [
    "from sklearn.neural_network import MLPClassifier\n",
    "\n",
    "# for i in range(0,50):\n",
    "    \n",
    "    classificador = MLPClassifier(activation='relu', max_iter=10000, solver='adam', alpha=1e-10, random_state=47)\n",
    "\n",
    "    scores = cross_val_score(classificador, inputs, outputs, cv=10, scoring='precision')\n",
    "    # print(scores)\n",
    "    print(i)\n",
    "    print(\"Precision: %0.3f (+/- %0.2f)\" % (scores.mean(), scores.std() * 2))\n",
    "    \n",
    "#     scores = cross_val_score(classificador, inputs, outputs, cv=10, scoring='recall')\n",
    "#     # print(scores)\n",
    "#     print(\"Recall: %0.3f (+/- %0.2f)\" % (scores.mean(), scores.std() * 2))\n",
    "\n",
    "#     scores = cross_val_score(classificador, inputs, outputs, cv=10, scoring='accuracy')\n",
    "#     # print(scores)\n",
    "#     print(\"Accuracy: %0.3f (+/- %0.2f)\" % (scores.mean(), scores.std() * 2))\n",
    "    \n",
    "#     scores = cross_val_score(classificador, inputs, outputs, cv=10, scoring='f1_micro')\n",
    "#     # print(scores)\n",
    "#     print(\"F1: %0.3f (+/- %0.2f)\" % (scores.mean(), scores.std() * 2))   "
   ]
  },
  {
   "cell_type": "code",
   "execution_count": 6,
   "metadata": {},
   "outputs": [
    {
     "name": "stdout",
     "output_type": "stream",
     "text": [
      "Precision: 0.616 (+/- 0.09)\n",
      "Recall: 0.405 (+/- 0.12)\n",
      "Accuracy: 0.577 (+/- 0.07)\n",
      "F1: 0.577 (+/- 0.07)\n"
     ]
    }
   ],
   "source": [
    "from sklearn.neural_network import MLPClassifier\n",
    "\n",
    "classificador = MLPClassifier(activation='relu', max_iter=10000, solver='adam', alpha=1e-10, random_state=47)\n",
    "\n",
    "scores = cross_val_score(classificador, inputs, outputs, cv=10, scoring='precision')\n",
    "print(\"Precision: %0.3f (+/- %0.2f)\" % (scores.mean(), scores.std() * 2))\n",
    "    \n",
    "scores = cross_val_score(classificador, inputs, outputs, cv=10, scoring='recall')\n",
    "# print(scores)\n",
    "print(\"Recall: %0.3f (+/- %0.2f)\" % (scores.mean(), scores.std() * 2))\n",
    "\n",
    "scores = cross_val_score(classificador, inputs, outputs, cv=10, scoring='accuracy')\n",
    "# print(scores)\n",
    "print(\"Accuracy: %0.3f (+/- %0.2f)\" % (scores.mean(), scores.std() * 2))\n",
    "    \n",
    "scores = cross_val_score(classificador, inputs, outputs, cv=10, scoring='f1_micro')\n",
    "# print(scores)\n",
    "print(\"F1: %0.3f (+/- %0.2f)\" % (scores.mean(), scores.std() * 2))   "
   ]
  },
  {
   "cell_type": "code",
   "execution_count": null,
   "metadata": {},
   "outputs": [],
   "source": []
  }
 ],
 "metadata": {
  "kernelspec": {
   "display_name": "Python 3",
   "language": "python",
   "name": "python3"
  },
  "language_info": {
   "codemirror_mode": {
    "name": "ipython",
    "version": 3
   },
   "file_extension": ".py",
   "mimetype": "text/x-python",
   "name": "python",
   "nbconvert_exporter": "python",
   "pygments_lexer": "ipython3",
   "version": "3.7.3"
  }
 },
 "nbformat": 4,
 "nbformat_minor": 2
}
