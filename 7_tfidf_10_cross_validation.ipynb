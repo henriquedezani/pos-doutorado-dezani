{
 "cells": [
  {
   "cell_type": "markdown",
   "metadata": {},
   "source": [
    "### 1. Carrega o arquivo com as sentenças, features e classificação"
   ]
  },
  {
   "cell_type": "code",
   "execution_count": 1,
   "metadata": {},
   "outputs": [],
   "source": [
    "import pandas as pd\n",
    "\n",
    "data_frame = pd.read_csv('dataset_sentencas_processadas.csv')\n",
    "\n",
    "# sentenca_original = sentenças obtidas do trabalho de Gabriela\n",
    "# sentenca_processada1 = remoção das anotações feitas por Gabriela\n",
    "# sentenca_processada2 = sem pontuações\n",
    "# sentenca_processada3_1 = sem acentos\n",
    "# sentenca_processada3_2 = sem stopwords\n",
    "# sentenca_processada3_3 = letras minúsculas\n",
    "# sentenca_processada3_4 = apenas as raizes das palavras (stemmer)"
   ]
  },
  {
   "cell_type": "code",
   "execution_count": 2,
   "metadata": {},
   "outputs": [
    {
     "data": {
      "text/html": [
       "<div>\n",
       "<style scoped>\n",
       "    .dataframe tbody tr th:only-of-type {\n",
       "        vertical-align: middle;\n",
       "    }\n",
       "\n",
       "    .dataframe tbody tr th {\n",
       "        vertical-align: top;\n",
       "    }\n",
       "\n",
       "    .dataframe thead th {\n",
       "        text-align: right;\n",
       "    }\n",
       "</style>\n",
       "<table border=\"1\" class=\"dataframe\">\n",
       "  <thead>\n",
       "    <tr style=\"text-align: right;\">\n",
       "      <th></th>\n",
       "      <th>sentenca_original</th>\n",
       "      <th>sentenca_processada1</th>\n",
       "      <th>classificacao</th>\n",
       "      <th>sentenca_processada2</th>\n",
       "      <th>sentenca_processada3_1</th>\n",
       "      <th>sentenca_processada3_2</th>\n",
       "      <th>sentenca_processada3_3</th>\n",
       "      <th>sentenca_processada3_4</th>\n",
       "    </tr>\n",
       "  </thead>\n",
       "  <tbody>\n",
       "    <tr>\n",
       "      <th>0</th>\n",
       "      <td>A Folha, sempre [tão solícita]P6, só fez junta...</td>\n",
       "      <td>A Folha, sempre tão solícita, só fez juntar os...</td>\n",
       "      <td>1</td>\n",
       "      <td>A Folha sempre tão solícita só fez juntar os d...</td>\n",
       "      <td>A Folha sempre tao solicita so fez juntar os d...</td>\n",
       "      <td>A Folha sempre tao solicita fez juntar dois de...</td>\n",
       "      <td>a folha sempre tao solicita fez juntar dois de...</td>\n",
       "      <td>a folh sempr tao solicit fez junt doi desafet ...</td>\n",
       "    </tr>\n",
       "  </tbody>\n",
       "</table>\n",
       "</div>"
      ],
      "text/plain": [
       "                                   sentenca_original  \\\n",
       "0  A Folha, sempre [tão solícita]P6, só fez junta...   \n",
       "\n",
       "                                sentenca_processada1  classificacao  \\\n",
       "0  A Folha, sempre tão solícita, só fez juntar os...              1   \n",
       "\n",
       "                                sentenca_processada2  \\\n",
       "0  A Folha sempre tão solícita só fez juntar os d...   \n",
       "\n",
       "                              sentenca_processada3_1  \\\n",
       "0  A Folha sempre tao solicita so fez juntar os d...   \n",
       "\n",
       "                              sentenca_processada3_2  \\\n",
       "0  A Folha sempre tao solicita fez juntar dois de...   \n",
       "\n",
       "                              sentenca_processada3_3  \\\n",
       "0  a folha sempre tao solicita fez juntar dois de...   \n",
       "\n",
       "                              sentenca_processada3_4  \n",
       "0  a folh sempr tao solicit fez junt doi desafet ...  "
      ]
     },
     "execution_count": 2,
     "metadata": {},
     "output_type": "execute_result"
    }
   ],
   "source": [
    "data_frame.head(1)"
   ]
  },
  {
   "cell_type": "code",
   "execution_count": 3,
   "metadata": {},
   "outputs": [
    {
     "name": "stdout",
     "output_type": "stream",
     "text": [
      "1    2000\n",
      "0    2000\n",
      "Name: classificacao, dtype: int64\n"
     ]
    }
   ],
   "source": [
    "print(data_frame['classificacao'].value_counts())"
   ]
  },
  {
   "cell_type": "markdown",
   "metadata": {},
   "source": [
    "### 2. TF-IDF (Term Frequency–Inverse Document Frequency)"
   ]
  },
  {
   "cell_type": "code",
   "execution_count": 4,
   "metadata": {},
   "outputs": [],
   "source": [
    "from sklearn.feature_extraction.text import TfidfVectorizer\n",
    "\n",
    "vetorizar = TfidfVectorizer(lowercase=False)\n",
    "\n",
    "tf_idf = vetorizar.fit_transform(data_frame['sentenca_processada3_4'].values.astype('U'))\n",
    "\n",
    "vocabulario = vetorizar.get_feature_names()"
   ]
  },
  {
   "cell_type": "code",
   "execution_count": 5,
   "metadata": {},
   "outputs": [
    {
     "name": "stdout",
     "output_type": "stream",
     "text": [
      "(4000, 5776)\n"
     ]
    }
   ],
   "source": [
    "print(tf_idf.shape)"
   ]
  },
  {
   "cell_type": "markdown",
   "metadata": {},
   "source": [
    "#### 2.1. Utiliza 10-Fold Cross Validation para realizar os testes"
   ]
  },
  {
   "cell_type": "code",
   "execution_count": 6,
   "metadata": {},
   "outputs": [],
   "source": [
    "from sklearn.model_selection import cross_val_score"
   ]
  },
  {
   "cell_type": "code",
   "execution_count": 7,
   "metadata": {},
   "outputs": [
    {
     "name": "stdout",
     "output_type": "stream",
     "text": [
      "F1: 0.576 (+/- 0.08)\n",
      "Precision: 0.590 (+/- 0.09)\n",
      "Accuracy: 0.582 (+/- 0.07)\n",
      "Recall: 0.487 (+/- 0.09)\n"
     ]
    }
   ],
   "source": [
    "from sklearn import tree\n",
    "classificador = tree.DecisionTreeClassifier()\n",
    "\n",
    "scores = cross_val_score(classificador, tf_idf, data_frame['classificacao'], cv=10, scoring='f1_micro')\n",
    "# print(scores)\n",
    "print(\"F1: %0.3f (+/- %0.2f)\" % (scores.mean(), scores.std() * 2))\n",
    "\n",
    "scores = cross_val_score(classificador, tf_idf, data_frame['classificacao'], cv=10, scoring='precision')\n",
    "# print(scores)\n",
    "print(\"Precision: %0.3f (+/- %0.2f)\" % (scores.mean(), scores.std() * 2))\n",
    "\n",
    "scores = cross_val_score(classificador, tf_idf, data_frame['classificacao'], cv=10, scoring='accuracy')\n",
    "# print(scores)\n",
    "print(\"Accuracy: %0.3f (+/- %0.2f)\" % (scores.mean(), scores.std() * 2))\n",
    "\n",
    "scores = cross_val_score(classificador, tf_idf, data_frame['classificacao'], cv=10, scoring='recall')\n",
    "# print(scores)\n",
    "print(\"Recall: %0.3f (+/- %0.2f)\" % (scores.mean(), scores.std() * 2))"
   ]
  },
  {
   "cell_type": "code",
   "execution_count": 9,
   "metadata": {},
   "outputs": [
    {
     "name": "stdout",
     "output_type": "stream",
     "text": [
      "F1: 0.668 (+/- 0.09)\n",
      "Precision: 0.661 (+/- 0.10)\n",
      "Accuracy: 0.668 (+/- 0.09)\n",
      "Recall: 0.698 (+/- 0.10)\n"
     ]
    }
   ],
   "source": [
    "from sklearn.linear_model import LogisticRegression\n",
    "classificador = LogisticRegression(solver='lbfgs')\n",
    "\n",
    "scores = cross_val_score(classificador, tf_idf, data_frame['classificacao'], cv=10, scoring='f1_micro')\n",
    "# print(scores)\n",
    "print(\"F1: %0.3f (+/- %0.2f)\" % (scores.mean(), scores.std() * 2))\n",
    "\n",
    "scores = cross_val_score(classificador, tf_idf, data_frame['classificacao'], cv=10, scoring='precision')\n",
    "# print(scores)\n",
    "print(\"Precision: %0.3f (+/- %0.2f)\" % (scores.mean(), scores.std() * 2))\n",
    "\n",
    "scores = cross_val_score(classificador, tf_idf, data_frame['classificacao'], cv=10, scoring='accuracy')\n",
    "# print(scores)\n",
    "print(\"Accuracy: %0.3f (+/- %0.2f)\" % (scores.mean(), scores.std() * 2))\n",
    "\n",
    "scores = cross_val_score(classificador, tf_idf, data_frame['classificacao'], cv=10, scoring='recall')\n",
    "# print(scores)\n",
    "print(\"Recall: %0.3f (+/- %0.2f)\" % (scores.mean(), scores.std() * 2))"
   ]
  },
  {
   "cell_type": "code",
   "execution_count": 10,
   "metadata": {},
   "outputs": [
    {
     "name": "stdout",
     "output_type": "stream",
     "text": [
      "F1: 0.657 (+/- 0.09)\n",
      "Precision: 0.653 (+/- 0.09)\n",
      "Accuracy: 0.657 (+/- 0.09)\n",
      "Recall: 0.675 (+/- 0.09)\n"
     ]
    }
   ],
   "source": [
    "from sklearn import svm\n",
    "\n",
    "classificador = svm.SVC(gamma='auto', C=1.0, kernel='linear', probability=True)\n",
    "\n",
    "scores = cross_val_score(classificador, tf_idf, data_frame['classificacao'], cv=10, scoring='f1_micro')\n",
    "# print(scores)\n",
    "print(\"F1: %0.3f (+/- %0.2f)\" % (scores.mean(), scores.std() * 2))\n",
    "\n",
    "scores = cross_val_score(classificador, tf_idf, data_frame['classificacao'], cv=10, scoring='precision')\n",
    "# print(scores)\n",
    "print(\"Precision: %0.3f (+/- %0.2f)\" % (scores.mean(), scores.std() * 2))\n",
    "\n",
    "scores = cross_val_score(classificador, tf_idf, data_frame['classificacao'], cv=10, scoring='accuracy')\n",
    "# print(scores)\n",
    "print(\"Accuracy: %0.3f (+/- %0.2f)\" % (scores.mean(), scores.std() * 2))\n",
    "\n",
    "scores = cross_val_score(classificador, tf_idf, data_frame['classificacao'], cv=10, scoring='recall')\n",
    "# print(scores)\n",
    "print(\"Recall: %0.3f (+/- %0.2f)\" % (scores.mean(), scores.std() * 2))"
   ]
  },
  {
   "cell_type": "code",
   "execution_count": 11,
   "metadata": {},
   "outputs": [
    {
     "name": "stdout",
     "output_type": "stream",
     "text": [
      "F1: 0.597 (+/- 0.06)\n",
      "Precision: 0.613 (+/- 0.07)\n",
      "Accuracy: 0.598 (+/- 0.06)\n",
      "Recall: 0.538 (+/- 0.08)\n"
     ]
    }
   ],
   "source": [
    "from sklearn.neural_network import MLPClassifier\n",
    "\n",
    "classificador = MLPClassifier(activation='relu', max_iter=10000, solver='adam', alpha=1e-10)\n",
    "\n",
    "scores = cross_val_score(classificador, tf_idf, data_frame['classificacao'], cv=10, scoring='f1_micro')\n",
    "# print(scores)\n",
    "print(\"F1: %0.3f (+/- %0.2f)\" % (scores.mean(), scores.std() * 2))\n",
    "\n",
    "scores = cross_val_score(classificador, tf_idf, data_frame['classificacao'], cv=10, scoring='precision')\n",
    "# print(scores)\n",
    "print(\"Precision: %0.3f (+/- %0.2f)\" % (scores.mean(), scores.std() * 2))\n",
    "\n",
    "scores = cross_val_score(classificador, tf_idf, data_frame['classificacao'], cv=10, scoring='accuracy')\n",
    "# print(scores)\n",
    "print(\"Accuracy: %0.3f (+/- %0.2f)\" % (scores.mean(), scores.std() * 2))\n",
    "\n",
    "scores = cross_val_score(classificador, tf_idf, data_frame['classificacao'], cv=10, scoring='recall')\n",
    "# print(scores)\n",
    "print(\"Recall: %0.3f (+/- %0.2f)\" % (scores.mean(), scores.std() * 2))"
   ]
  },
  {
   "cell_type": "code",
   "execution_count": null,
   "metadata": {},
   "outputs": [],
   "source": []
  }
 ],
 "metadata": {
  "kernelspec": {
   "display_name": "Python 3",
   "language": "python",
   "name": "python3"
  },
  "language_info": {
   "codemirror_mode": {
    "name": "ipython",
    "version": 3
   },
   "file_extension": ".py",
   "mimetype": "text/x-python",
   "name": "python",
   "nbconvert_exporter": "python",
   "pygments_lexer": "ipython3",
   "version": "3.7.3"
  }
 },
 "nbformat": 4,
 "nbformat_minor": 2
}
