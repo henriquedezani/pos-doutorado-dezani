{
  "nbformat": 4,
  "nbformat_minor": 0,
  "metadata": {
    "colab": {
      "name": "4a_features_keras_10perc.ipynb",
      "version": "0.3.2",
      "provenance": [],
      "collapsed_sections": []
    },
    "kernelspec": {
      "name": "python3",
      "display_name": "Python 3"
    },
    "accelerator": "GPU"
  },
  "cells": [
    {
      "metadata": {
        "id": "fOW2WC_Oo2MQ",
        "colab_type": "text"
      },
      "cell_type": "markdown",
      "source": [
        "## Identificação Automática de Ironias em Textos em Português\n",
        "**Henrique Dezani; Helena Caseli**"
      ]
    },
    {
      "metadata": {
        "id": "9Ounw0I6sQtB",
        "colab_type": "code",
        "outputId": "365936b1-87a7-4273-818c-4126df331b7c",
        "colab": {
          "base_uri": "https://localhost:8080/",
          "height": 34
        }
      },
      "cell_type": "code",
      "source": [
        "import tensorflow as tf\n",
        "device_name = tf.test.gpu_device_name()\n",
        "if device_name != '/device:GPU:0':\n",
        "  raise SystemError('GPU device not found')\n",
        "print('Found GPU at: {}'.format(device_name))"
      ],
      "execution_count": 1,
      "outputs": [
        {
          "output_type": "stream",
          "text": [
            "Found GPU at: /device:GPU:0\n"
          ],
          "name": "stdout"
        }
      ]
    },
    {
      "metadata": {
        "id": "35y9gq7Eqx5y",
        "colab_type": "code",
        "outputId": "28551f11-c214-4638-cb37-f7ae5fef7019",
        "colab": {
          "base_uri": "https://localhost:8080/",
          "height": 122
        }
      },
      "cell_type": "code",
      "source": [
        "# Load the Drive helper and mount\n",
        "from google.colab import drive\n",
        "\n",
        "# This will prompt for authorization.\n",
        "drive.mount('/content/drive/')"
      ],
      "execution_count": 2,
      "outputs": [
        {
          "output_type": "stream",
          "text": [
            "Go to this URL in a browser: https://accounts.google.com/o/oauth2/auth?client_id=947318989803-6bn6qk8qdgf4n4g3pfee6491hc0brc4i.apps.googleusercontent.com&redirect_uri=urn%3Aietf%3Awg%3Aoauth%3A2.0%3Aoob&scope=email%20https%3A%2F%2Fwww.googleapis.com%2Fauth%2Fdocs.test%20https%3A%2F%2Fwww.googleapis.com%2Fauth%2Fdrive%20https%3A%2F%2Fwww.googleapis.com%2Fauth%2Fdrive.photos.readonly%20https%3A%2F%2Fwww.googleapis.com%2Fauth%2Fpeopleapi.readonly&response_type=code\n",
            "\n",
            "Enter your authorization code:\n",
            "··········\n",
            "Mounted at /content/drive/\n"
          ],
          "name": "stdout"
        }
      ]
    },
    {
      "metadata": {
        "id": "m7o6t5fWq3Eq",
        "colab_type": "code",
        "outputId": "56db35fc-360f-4ff6-b80f-c26e03695e14",
        "colab": {
          "base_uri": "https://localhost:8080/",
          "height": 170
        }
      },
      "cell_type": "code",
      "source": [
        "!ls \"/content/drive/My Drive\""
      ],
      "execution_count": 3,
      "outputs": [
        {
          "output_type": "stream",
          "text": [
            " Antigo\n",
            "'Colab Notebooks'\n",
            " contatos_firebase_final.zip\n",
            " Documentos\n",
            " Imagens\n",
            "'Inscrição no evento InterFatec 2019.gform'\n",
            "'Inscrição no evento InterFatec 2019 (respostas).gsheet'\n",
            " TechSmith\n",
            " Vídeos\n"
          ],
          "name": "stdout"
        }
      ]
    },
    {
      "metadata": {
        "id": "B8iSpl3WroIk",
        "colab_type": "code",
        "outputId": "80e661d1-2603-4e57-e4fe-b612a056019a",
        "colab": {
          "resources": {
            "http://localhost:8080/nbextensions/google.colab/files.js": {
              "data": "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",
              "ok": true,
              "headers": [
                [
                  "content-type",
                  "application/javascript"
                ]
              ],
              "status": 200,
              "status_text": ""
            }
          },
          "base_uri": "https://localhost:8080/",
          "height": 71
        }
      },
      "cell_type": "code",
      "source": [
        "from google.colab import files\n",
        "uploaded = files.upload()"
      ],
      "execution_count": 7,
      "outputs": [
        {
          "output_type": "display_data",
          "data": {
            "text/html": [
              "\n",
              "     <input type=\"file\" id=\"files-bb0c056d-f675-4bbc-b021-eb6407a64aa0\" name=\"files[]\" multiple disabled />\n",
              "     <output id=\"result-bb0c056d-f675-4bbc-b021-eb6407a64aa0\">\n",
              "      Upload widget is only available when the cell has been executed in the\n",
              "      current browser session. Please rerun this cell to enable.\n",
              "      </output>\n",
              "      <script src=\"/nbextensions/google.colab/files.js\"></script> "
            ],
            "text/plain": [
              "<IPython.core.display.HTML object>"
            ]
          },
          "metadata": {
            "tags": []
          }
        },
        {
          "output_type": "stream",
          "text": [
            "Saving dataset_features.csv to dataset_features.csv\n"
          ],
          "name": "stdout"
        }
      ]
    },
    {
      "metadata": {
        "id": "mwKDaFrUo2MT",
        "colab_type": "code",
        "colab": {}
      },
      "cell_type": "code",
      "source": [
        "import pandas as pd\n",
        "import io\n",
        "\n",
        "data_frame = pd.read_csv(io.BytesIO(uploaded['dataset_features.csv']))"
      ],
      "execution_count": 0,
      "outputs": []
    },
    {
      "metadata": {
        "id": "kGlM2P6ao2MX",
        "colab_type": "code",
        "outputId": "cc6408fd-ff22-43af-b21f-6aefdd34c7d7",
        "colab": {
          "base_uri": "https://localhost:8080/",
          "height": 224
        }
      },
      "cell_type": "code",
      "source": [
        "data_frame.head()"
      ],
      "execution_count": 9,
      "outputs": [
        {
          "output_type": "execute_result",
          "data": {
            "text/html": [
              "<div>\n",
              "<style scoped>\n",
              "    .dataframe tbody tr th:only-of-type {\n",
              "        vertical-align: middle;\n",
              "    }\n",
              "\n",
              "    .dataframe tbody tr th {\n",
              "        vertical-align: top;\n",
              "    }\n",
              "\n",
              "    .dataframe thead th {\n",
              "        text-align: right;\n",
              "    }\n",
              "</style>\n",
              "<table border=\"1\" class=\"dataframe\">\n",
              "  <thead>\n",
              "    <tr style=\"text-align: right;\">\n",
              "      <th></th>\n",
              "      <th>classificacao</th>\n",
              "      <th>entidades_nomeadas</th>\n",
              "      <th>adjetivos</th>\n",
              "      <th>triggers</th>\n",
              "      <th>intensifiers</th>\n",
              "      <th>modifiers</th>\n",
              "      <th>quotation_marks</th>\n",
              "      <th>repeated_punctuation</th>\n",
              "      <th>letters_repetition</th>\n",
              "      <th>word_repetition</th>\n",
              "    </tr>\n",
              "  </thead>\n",
              "  <tbody>\n",
              "    <tr>\n",
              "      <th>0</th>\n",
              "      <td>1</td>\n",
              "      <td>0</td>\n",
              "      <td>1</td>\n",
              "      <td>1</td>\n",
              "      <td>1</td>\n",
              "      <td>1</td>\n",
              "      <td>0</td>\n",
              "      <td>0</td>\n",
              "      <td>0</td>\n",
              "      <td>0</td>\n",
              "    </tr>\n",
              "    <tr>\n",
              "      <th>1</th>\n",
              "      <td>1</td>\n",
              "      <td>0</td>\n",
              "      <td>0</td>\n",
              "      <td>1</td>\n",
              "      <td>0</td>\n",
              "      <td>1</td>\n",
              "      <td>0</td>\n",
              "      <td>1</td>\n",
              "      <td>0</td>\n",
              "      <td>0</td>\n",
              "    </tr>\n",
              "    <tr>\n",
              "      <th>2</th>\n",
              "      <td>1</td>\n",
              "      <td>0</td>\n",
              "      <td>0</td>\n",
              "      <td>1</td>\n",
              "      <td>0</td>\n",
              "      <td>1</td>\n",
              "      <td>0</td>\n",
              "      <td>0</td>\n",
              "      <td>1</td>\n",
              "      <td>0</td>\n",
              "    </tr>\n",
              "    <tr>\n",
              "      <th>3</th>\n",
              "      <td>1</td>\n",
              "      <td>1</td>\n",
              "      <td>0</td>\n",
              "      <td>1</td>\n",
              "      <td>0</td>\n",
              "      <td>1</td>\n",
              "      <td>1</td>\n",
              "      <td>1</td>\n",
              "      <td>0</td>\n",
              "      <td>0</td>\n",
              "    </tr>\n",
              "    <tr>\n",
              "      <th>4</th>\n",
              "      <td>1</td>\n",
              "      <td>0</td>\n",
              "      <td>0</td>\n",
              "      <td>1</td>\n",
              "      <td>0</td>\n",
              "      <td>0</td>\n",
              "      <td>0</td>\n",
              "      <td>1</td>\n",
              "      <td>0</td>\n",
              "      <td>0</td>\n",
              "    </tr>\n",
              "  </tbody>\n",
              "</table>\n",
              "</div>"
            ],
            "text/plain": [
              "   classificacao  entidades_nomeadas  adjetivos  triggers  intensifiers  \\\n",
              "0              1                   0          1         1             1   \n",
              "1              1                   0          0         1             0   \n",
              "2              1                   0          0         1             0   \n",
              "3              1                   1          0         1             0   \n",
              "4              1                   0          0         1             0   \n",
              "\n",
              "   modifiers  quotation_marks  repeated_punctuation  letters_repetition  \\\n",
              "0          1                0                     0                   0   \n",
              "1          1                0                     1                   0   \n",
              "2          1                0                     0                   1   \n",
              "3          1                1                     1                   0   \n",
              "4          0                0                     1                   0   \n",
              "\n",
              "   word_repetition  \n",
              "0                0  \n",
              "1                0  \n",
              "2                0  \n",
              "3                0  \n",
              "4                0  "
            ]
          },
          "metadata": {
            "tags": []
          },
          "execution_count": 9
        }
      ]
    },
    {
      "metadata": {
        "id": "KOLn1h4_o2Mb",
        "colab_type": "code",
        "outputId": "747b0499-df96-4eb0-a31b-a6df171c3c20",
        "colab": {
          "base_uri": "https://localhost:8080/",
          "height": 34
        }
      },
      "cell_type": "code",
      "source": [
        "inputs = data_frame.iloc[:,1:10].values\n",
        "outputs = data_frame['classificacao']\n",
        "\n",
        "inputs.shape, outputs.shape"
      ],
      "execution_count": 12,
      "outputs": [
        {
          "output_type": "execute_result",
          "data": {
            "text/plain": [
              "((4000, 9), (4000,))"
            ]
          },
          "metadata": {
            "tags": []
          },
          "execution_count": 12
        }
      ]
    },
    {
      "metadata": {
        "id": "ZHYSImHKcB2f",
        "colab_type": "code",
        "colab": {
          "base_uri": "https://localhost:8080/",
          "height": 3434
        },
        "outputId": "44f0d333-0a8f-4481-8470-79595faf57a2"
      },
      "cell_type": "code",
      "source": [
        "import keras\n",
        "from keras.models import Sequential\n",
        "from keras.layers import Dense\n",
        "from sklearn.model_selection import train_test_split\n",
        "from sklearn import metrics\n",
        "\n",
        "from sklearn.metrics import confusion_matrix, accuracy_score\n",
        "\n",
        "# Separa o corpus em conjunto de dados de treino e de teste.\n",
        "treino, teste, classe_treino, classe_teste = train_test_split(inputs, outputs, test_size = 0.1)\n",
        "\n",
        "\n",
        "classificador = Sequential()\n",
        "\n",
        "# classificador.add(Dense(units = 10, activation = 'relu', input_dim= 9))\n",
        "# classificador.add(Dense(units = 10, activation = 'relu'))\n",
        "classificador.add(Dense(units = 1, activation = 'sigmoid', input_dim= 9))\n",
        "\n",
        "classificador.compile(optimizer = 'adam', loss = 'binary_crossentropy', metrics = ['accuracy'])\n",
        "\n",
        "classificador.fit(treino, classe_treino, batch_size=10, epochs=100)\n",
        "previsoes = classificador.predict(teste)\n",
        "\n",
        "# transforma as saídas classificadas de acordo com um limiar:\n",
        "# previsao_bool = previsao[:,1] >= 0.5\n",
        "\n",
        "# transforma as saídas classificadas (booleanas) em valores inteiros:\n",
        "# previsao_int = previsao_bool.astype(np.int)\n",
        "\n",
        "f1_score = metrics.f1_score(classe_teste, previsoes.round())\n",
        "accuracy = metrics.accuracy_score(classe_teste, previsoes.round())\n",
        "precision = metrics.precision_score(classe_teste, previsoes.round())\n",
        "recall = metrics.recall_score(classe_teste, previsoes.round())\n",
        "\n",
        "print(f1_score, '\\t', accuracy, '\\t', precision, '\\t', recall)\n",
        "\n",
        "# precisao = accuracy_score(classe_teste, previsoes.round()) #, normalize=False)\n",
        "# matriz = confusion_matrix(classe_teste, previsoes.round()) #, normalize=False)\n",
        "\n",
        "# print(precisao)\n",
        "# print(matriz)"
      ],
      "execution_count": 28,
      "outputs": [
        {
          "output_type": "stream",
          "text": [
            "Epoch 1/100\n",
            "3600/3600 [==============================] - 2s 493us/step - loss: 0.6842 - acc: 0.5625\n",
            "Epoch 2/100\n",
            "3600/3600 [==============================] - 1s 292us/step - loss: 0.6781 - acc: 0.5714\n",
            "Epoch 3/100\n",
            "3600/3600 [==============================] - 1s 292us/step - loss: 0.6757 - acc: 0.5758\n",
            "Epoch 4/100\n",
            "3600/3600 [==============================] - 1s 291us/step - loss: 0.6747 - acc: 0.5742\n",
            "Epoch 5/100\n",
            "3600/3600 [==============================] - 1s 292us/step - loss: 0.6739 - acc: 0.5722\n",
            "Epoch 6/100\n",
            "3600/3600 [==============================] - 1s 289us/step - loss: 0.6733 - acc: 0.5750\n",
            "Epoch 7/100\n",
            "3600/3600 [==============================] - 1s 292us/step - loss: 0.6733 - acc: 0.5778\n",
            "Epoch 8/100\n",
            "3600/3600 [==============================] - 1s 292us/step - loss: 0.6725 - acc: 0.5797\n",
            "Epoch 9/100\n",
            "3600/3600 [==============================] - 1s 291us/step - loss: 0.6727 - acc: 0.5775\n",
            "Epoch 10/100\n",
            "3600/3600 [==============================] - 1s 294us/step - loss: 0.6724 - acc: 0.5742\n",
            "Epoch 11/100\n",
            "3600/3600 [==============================] - 1s 290us/step - loss: 0.6720 - acc: 0.5808\n",
            "Epoch 12/100\n",
            "3600/3600 [==============================] - 1s 292us/step - loss: 0.6717 - acc: 0.5756\n",
            "Epoch 13/100\n",
            "3600/3600 [==============================] - 1s 292us/step - loss: 0.6716 - acc: 0.5783\n",
            "Epoch 14/100\n",
            "3600/3600 [==============================] - 1s 291us/step - loss: 0.6713 - acc: 0.5817\n",
            "Epoch 15/100\n",
            "3600/3600 [==============================] - 1s 289us/step - loss: 0.6713 - acc: 0.5794\n",
            "Epoch 16/100\n",
            "3600/3600 [==============================] - 1s 290us/step - loss: 0.6714 - acc: 0.5733\n",
            "Epoch 17/100\n",
            "3600/3600 [==============================] - 1s 293us/step - loss: 0.6710 - acc: 0.5803\n",
            "Epoch 18/100\n",
            "3600/3600 [==============================] - 1s 295us/step - loss: 0.6708 - acc: 0.5803\n",
            "Epoch 19/100\n",
            "3600/3600 [==============================] - 1s 297us/step - loss: 0.6704 - acc: 0.5803\n",
            "Epoch 20/100\n",
            "3600/3600 [==============================] - 1s 291us/step - loss: 0.6706 - acc: 0.5792\n",
            "Epoch 21/100\n",
            "3600/3600 [==============================] - 1s 289us/step - loss: 0.6706 - acc: 0.5758\n",
            "Epoch 22/100\n",
            "3600/3600 [==============================] - 1s 290us/step - loss: 0.6699 - acc: 0.5861\n",
            "Epoch 23/100\n",
            "3600/3600 [==============================] - 1s 291us/step - loss: 0.6704 - acc: 0.5789\n",
            "Epoch 24/100\n",
            "3600/3600 [==============================] - 1s 292us/step - loss: 0.6703 - acc: 0.5789\n",
            "Epoch 25/100\n",
            "3600/3600 [==============================] - 1s 291us/step - loss: 0.6697 - acc: 0.5850\n",
            "Epoch 26/100\n",
            "3600/3600 [==============================] - 1s 291us/step - loss: 0.6696 - acc: 0.5817\n",
            "Epoch 27/100\n",
            "3600/3600 [==============================] - 1s 288us/step - loss: 0.6694 - acc: 0.5842\n",
            "Epoch 28/100\n",
            "3600/3600 [==============================] - 1s 290us/step - loss: 0.6693 - acc: 0.5786\n",
            "Epoch 29/100\n",
            "3600/3600 [==============================] - 1s 293us/step - loss: 0.6695 - acc: 0.5814\n",
            "Epoch 30/100\n",
            "3600/3600 [==============================] - 1s 288us/step - loss: 0.6693 - acc: 0.5822\n",
            "Epoch 31/100\n",
            "3600/3600 [==============================] - 1s 289us/step - loss: 0.6689 - acc: 0.5814\n",
            "Epoch 32/100\n",
            "3600/3600 [==============================] - 1s 287us/step - loss: 0.6692 - acc: 0.5839\n",
            "Epoch 33/100\n",
            "3600/3600 [==============================] - 1s 287us/step - loss: 0.6690 - acc: 0.5822\n",
            "Epoch 34/100\n",
            "3600/3600 [==============================] - 1s 287us/step - loss: 0.6689 - acc: 0.5792\n",
            "Epoch 35/100\n",
            "3600/3600 [==============================] - 1s 292us/step - loss: 0.6688 - acc: 0.5836\n",
            "Epoch 36/100\n",
            "3600/3600 [==============================] - 1s 292us/step - loss: 0.6688 - acc: 0.5828\n",
            "Epoch 37/100\n",
            "3600/3600 [==============================] - 1s 292us/step - loss: 0.6686 - acc: 0.5831\n",
            "Epoch 38/100\n",
            "3600/3600 [==============================] - 1s 288us/step - loss: 0.6684 - acc: 0.5847\n",
            "Epoch 39/100\n",
            "3600/3600 [==============================] - 1s 297us/step - loss: 0.6678 - acc: 0.5731\n",
            "Epoch 40/100\n",
            "3600/3600 [==============================] - 1s 294us/step - loss: 0.6683 - acc: 0.5856\n",
            "Epoch 41/100\n",
            "3600/3600 [==============================] - 1s 290us/step - loss: 0.6680 - acc: 0.5792\n",
            "Epoch 42/100\n",
            "3600/3600 [==============================] - 1s 292us/step - loss: 0.6683 - acc: 0.5822\n",
            "Epoch 43/100\n",
            "3600/3600 [==============================] - 1s 292us/step - loss: 0.6682 - acc: 0.5794\n",
            "Epoch 44/100\n",
            "3600/3600 [==============================] - 1s 289us/step - loss: 0.6674 - acc: 0.5828\n",
            "Epoch 45/100\n",
            "3600/3600 [==============================] - 1s 292us/step - loss: 0.6679 - acc: 0.5803\n",
            "Epoch 46/100\n",
            "3600/3600 [==============================] - 1s 290us/step - loss: 0.6679 - acc: 0.5786\n",
            "Epoch 47/100\n",
            "3600/3600 [==============================] - 1s 292us/step - loss: 0.6673 - acc: 0.5797\n",
            "Epoch 48/100\n",
            "3600/3600 [==============================] - 1s 291us/step - loss: 0.6679 - acc: 0.5819\n",
            "Epoch 49/100\n",
            "3600/3600 [==============================] - 1s 295us/step - loss: 0.6676 - acc: 0.5847\n",
            "Epoch 50/100\n",
            "3600/3600 [==============================] - 1s 293us/step - loss: 0.6675 - acc: 0.5844\n",
            "Epoch 51/100\n",
            "3600/3600 [==============================] - 1s 290us/step - loss: 0.6673 - acc: 0.5808\n",
            "Epoch 52/100\n",
            "3600/3600 [==============================] - 1s 289us/step - loss: 0.6669 - acc: 0.5881\n",
            "Epoch 53/100\n",
            "3600/3600 [==============================] - 1s 287us/step - loss: 0.6674 - acc: 0.5842\n",
            "Epoch 54/100\n",
            "3600/3600 [==============================] - 1s 289us/step - loss: 0.6673 - acc: 0.5836\n",
            "Epoch 55/100\n",
            "3600/3600 [==============================] - 1s 288us/step - loss: 0.6670 - acc: 0.5781\n",
            "Epoch 56/100\n",
            "3600/3600 [==============================] - 1s 288us/step - loss: 0.6667 - acc: 0.5822\n",
            "Epoch 57/100\n",
            "3600/3600 [==============================] - 1s 290us/step - loss: 0.6668 - acc: 0.5833\n",
            "Epoch 58/100\n",
            "3600/3600 [==============================] - 1s 288us/step - loss: 0.6671 - acc: 0.5831\n",
            "Epoch 59/100\n",
            "3600/3600 [==============================] - 1s 295us/step - loss: 0.6671 - acc: 0.5844\n",
            "Epoch 60/100\n",
            "3600/3600 [==============================] - 1s 288us/step - loss: 0.6668 - acc: 0.5853\n",
            "Epoch 61/100\n",
            "3600/3600 [==============================] - 1s 289us/step - loss: 0.6671 - acc: 0.5864\n",
            "Epoch 62/100\n",
            "3600/3600 [==============================] - 1s 291us/step - loss: 0.6666 - acc: 0.5825\n",
            "Epoch 63/100\n",
            "3600/3600 [==============================] - 1s 293us/step - loss: 0.6669 - acc: 0.5836\n",
            "Epoch 64/100\n",
            "3600/3600 [==============================] - 1s 290us/step - loss: 0.6667 - acc: 0.5825\n",
            "Epoch 65/100\n",
            "3600/3600 [==============================] - 1s 315us/step - loss: 0.6668 - acc: 0.5831\n",
            "Epoch 66/100\n",
            "3600/3600 [==============================] - 1s 349us/step - loss: 0.6660 - acc: 0.5839\n",
            "Epoch 67/100\n",
            "3600/3600 [==============================] - 1s 350us/step - loss: 0.6668 - acc: 0.5822\n",
            "Epoch 68/100\n",
            "3600/3600 [==============================] - 1s 351us/step - loss: 0.6668 - acc: 0.5756\n",
            "Epoch 69/100\n",
            "3600/3600 [==============================] - 1s 351us/step - loss: 0.6666 - acc: 0.5778\n",
            "Epoch 70/100\n",
            "3600/3600 [==============================] - 1s 349us/step - loss: 0.6662 - acc: 0.5839\n",
            "Epoch 71/100\n",
            "3600/3600 [==============================] - 1s 347us/step - loss: 0.6663 - acc: 0.5825\n",
            "Epoch 72/100\n",
            "3600/3600 [==============================] - 1s 348us/step - loss: 0.6666 - acc: 0.5817\n",
            "Epoch 73/100\n",
            "3600/3600 [==============================] - 1s 320us/step - loss: 0.6660 - acc: 0.5786\n",
            "Epoch 74/100\n",
            "3600/3600 [==============================] - 1s 292us/step - loss: 0.6665 - acc: 0.5803\n",
            "Epoch 75/100\n",
            "3600/3600 [==============================] - 1s 291us/step - loss: 0.6661 - acc: 0.5811\n",
            "Epoch 76/100\n",
            "3600/3600 [==============================] - 1s 290us/step - loss: 0.6661 - acc: 0.5844\n",
            "Epoch 77/100\n",
            "3600/3600 [==============================] - 1s 289us/step - loss: 0.6662 - acc: 0.5808\n",
            "Epoch 78/100\n",
            "3600/3600 [==============================] - 1s 294us/step - loss: 0.6659 - acc: 0.5828\n",
            "Epoch 79/100\n",
            "3600/3600 [==============================] - 1s 292us/step - loss: 0.6661 - acc: 0.5833\n",
            "Epoch 80/100\n",
            "3600/3600 [==============================] - 1s 295us/step - loss: 0.6656 - acc: 0.5825\n",
            "Epoch 81/100\n",
            "3600/3600 [==============================] - 1s 291us/step - loss: 0.6664 - acc: 0.5822\n",
            "Epoch 82/100\n",
            "3600/3600 [==============================] - 1s 293us/step - loss: 0.6658 - acc: 0.5828\n",
            "Epoch 83/100\n",
            "3600/3600 [==============================] - 1s 295us/step - loss: 0.6662 - acc: 0.5847\n",
            "Epoch 84/100\n",
            "3600/3600 [==============================] - 1s 292us/step - loss: 0.6650 - acc: 0.5881\n",
            "Epoch 85/100\n",
            "3600/3600 [==============================] - 1s 291us/step - loss: 0.6659 - acc: 0.5836\n",
            "Epoch 86/100\n",
            "3600/3600 [==============================] - 1s 291us/step - loss: 0.6660 - acc: 0.5828\n",
            "Epoch 87/100\n",
            "3600/3600 [==============================] - 1s 294us/step - loss: 0.6661 - acc: 0.5844\n",
            "Epoch 88/100\n",
            "3600/3600 [==============================] - 1s 295us/step - loss: 0.6659 - acc: 0.5817\n",
            "Epoch 89/100\n",
            "3600/3600 [==============================] - 1s 294us/step - loss: 0.6654 - acc: 0.5803\n",
            "Epoch 90/100\n",
            "3600/3600 [==============================] - 1s 292us/step - loss: 0.6659 - acc: 0.5831\n",
            "Epoch 91/100\n",
            "3600/3600 [==============================] - 1s 291us/step - loss: 0.6662 - acc: 0.5856\n",
            "Epoch 92/100\n",
            "3600/3600 [==============================] - 1s 290us/step - loss: 0.6655 - acc: 0.5789\n",
            "Epoch 93/100\n",
            "3600/3600 [==============================] - 1s 292us/step - loss: 0.6649 - acc: 0.5872\n",
            "Epoch 94/100\n",
            "3600/3600 [==============================] - 1s 289us/step - loss: 0.6654 - acc: 0.5792\n",
            "Epoch 95/100\n",
            "3600/3600 [==============================] - 1s 291us/step - loss: 0.6653 - acc: 0.5814\n",
            "Epoch 96/100\n",
            "3600/3600 [==============================] - 1s 292us/step - loss: 0.6649 - acc: 0.5797\n",
            "Epoch 97/100\n",
            "3600/3600 [==============================] - 1s 292us/step - loss: 0.6653 - acc: 0.5814\n",
            "Epoch 98/100\n",
            "3600/3600 [==============================] - 1s 297us/step - loss: 0.6651 - acc: 0.5806\n",
            "Epoch 99/100\n",
            "3600/3600 [==============================] - 1s 292us/step - loss: 0.6654 - acc: 0.5817\n",
            "Epoch 100/100\n",
            "3600/3600 [==============================] - 1s 292us/step - loss: 0.6650 - acc: 0.5853\n",
            "0.5352798053527981 \t 0.5225 \t 0.5188679245283019 \t 0.5527638190954773\n"
          ],
          "name": "stdout"
        }
      ]
    },
    {
      "metadata": {
        "id": "u-Qn5UGLgJs-",
        "colab_type": "code",
        "colab": {
          "base_uri": "https://localhost:8080/",
          "height": 884
        },
        "outputId": "a1c5034b-9999-450e-b535-e8e770f2f688"
      },
      "cell_type": "code",
      "source": [
        "import keras\n",
        "from keras.models import Sequential\n",
        "from keras.layers import Dense\n",
        "from sklearn.model_selection import train_test_split\n",
        "from sklearn import metrics\n",
        "import numpy as np\n",
        "\n",
        "from sklearn.metrics import confusion_matrix, accuracy_score\n",
        "\n",
        "# Separa o corpus em conjunto de dados de treino e de teste.\n",
        "treino, teste, classe_treino, classe_teste = train_test_split(inputs, outputs, test_size = 0.1)\n",
        "\n",
        "\n",
        "classificador = Sequential()\n",
        "\n",
        "classificador.add(Dense(units = 5, activation = 'relu', input_dim= 9))\n",
        "classificador.add(Dense(units = 5, activation = 'relu'))\n",
        "classificador.add(Dense(units = 5, activation = 'relu'))\n",
        "classificador.add(Dense(units = 1, activation = 'sigmoid'))\n",
        "\n",
        "classificador.compile(optimizer = 'adam', loss = 'binary_crossentropy', metrics = ['accuracy'])\n",
        "\n",
        "classificador.fit(treino, classe_treino, batch_size=10, epochs=100, verbose=2)\n",
        "previsoes = classificador.predict(teste)\n",
        "\n",
        "# transforma as saídas classificadas de acordo com um limiar:\n",
        "previsao_bool = previsoes.round() >= 0.5\n",
        "\n",
        "# transforma as saídas classificadas (booleanas) em valores inteiros:\n",
        "previsao_int = previsao_bool.astype(np.int)\n",
        "\n",
        "f1_score = metrics.f1_score(classe_teste, previsao_int)\n",
        "accuracy = metrics.accuracy_score(classe_teste, previsao_int)\n",
        "precision = metrics.precision_score(classe_teste, previsao_int)\n",
        "recall = metrics.recall_score(classe_teste, previsao_int)\n",
        "\n",
        "print(precision, '\\t', recall, '\\t', accuracy, '\\t', f1_score)\n",
        "\n",
        "# precisao = accuracy_score(classe_teste, previsoes.round()) #, normalize=False)\n",
        "# matriz = confusion_matrix(classe_teste, previsoes.round()) #, normalize=False)\n",
        "\n",
        "# print(precisao)\n",
        "# print(matriz)"
      ],
      "execution_count": 0,
      "outputs": [
        {
          "output_type": "stream",
          "text": [
            "Epoch 1/100\n",
            " - 4s - loss: 0.6930 - acc: 0.5058\n",
            "Epoch 2/100\n",
            " - 1s - loss: 0.6918 - acc: 0.5397\n",
            "Epoch 3/100\n",
            " - 1s - loss: 0.6877 - acc: 0.5422\n",
            "Epoch 4/100\n",
            " - 1s - loss: 0.6828 - acc: 0.5700\n",
            "Epoch 5/100\n",
            " - 1s - loss: 0.6795 - acc: 0.5708\n",
            "Epoch 6/100\n",
            " - 1s - loss: 0.6780 - acc: 0.5731\n",
            "Epoch 7/100\n",
            " - 1s - loss: 0.6770 - acc: 0.5758\n",
            "Epoch 8/100\n",
            " - 1s - loss: 0.6760 - acc: 0.5831\n",
            "Epoch 9/100\n",
            " - 1s - loss: 0.6756 - acc: 0.5775\n",
            "Epoch 10/100\n",
            " - 1s - loss: 0.6745 - acc: 0.5853\n",
            "Epoch 11/100\n",
            " - 1s - loss: 0.6748 - acc: 0.5803\n",
            "Epoch 12/100\n",
            " - 1s - loss: 0.6751 - acc: 0.5800\n",
            "Epoch 13/100\n",
            " - 1s - loss: 0.6745 - acc: 0.5792\n",
            "Epoch 14/100\n",
            " - 1s - loss: 0.6739 - acc: 0.5789\n",
            "Epoch 15/100\n",
            " - 1s - loss: 0.6740 - acc: 0.5814\n",
            "Epoch 16/100\n",
            " - 1s - loss: 0.6740 - acc: 0.5822\n",
            "Epoch 17/100\n",
            " - 1s - loss: 0.6738 - acc: 0.5806\n",
            "Epoch 18/100\n",
            " - 1s - loss: 0.6736 - acc: 0.5822\n",
            "Epoch 19/100\n",
            " - 1s - loss: 0.6732 - acc: 0.5808\n",
            "Epoch 20/100\n",
            " - 1s - loss: 0.6735 - acc: 0.5833\n",
            "Epoch 21/100\n",
            " - 1s - loss: 0.6725 - acc: 0.5836\n",
            "Epoch 22/100\n",
            " - 1s - loss: 0.6731 - acc: 0.5822\n",
            "Epoch 23/100\n",
            " - 1s - loss: 0.6730 - acc: 0.5828\n",
            "Epoch 24/100\n",
            " - 1s - loss: 0.6727 - acc: 0.5811\n",
            "Epoch 25/100\n",
            " - 1s - loss: 0.6724 - acc: 0.5814\n",
            "Epoch 26/100\n"
          ],
          "name": "stdout"
        }
      ]
    },
    {
      "metadata": {
        "id": "0BN3fLhgmrct",
        "colab_type": "code",
        "colab": {}
      },
      "cell_type": "code",
      "source": [
        ""
      ],
      "execution_count": 0,
      "outputs": []
    }
  ]
}