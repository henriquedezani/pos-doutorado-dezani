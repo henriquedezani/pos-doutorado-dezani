{
 "cells": [
  {
   "cell_type": "markdown",
   "metadata": {},
   "source": [
    "### 1. Carrega o arquivo com as sentenças (Córpus da Gabriela)"
   ]
  },
  {
   "cell_type": "code",
   "execution_count": 1,
   "metadata": {},
   "outputs": [],
   "source": [
    "import pandas as pd"
   ]
  },
  {
   "cell_type": "code",
   "execution_count": 2,
   "metadata": {},
   "outputs": [],
   "source": [
    "data_frame = pd.read_csv('dataset_features.csv')"
   ]
  },
  {
   "cell_type": "code",
   "execution_count": 3,
   "metadata": {},
   "outputs": [
    {
     "data": {
      "text/plain": [
       "((4000, 9), (4000,))"
      ]
     },
     "execution_count": 3,
     "metadata": {},
     "output_type": "execute_result"
    }
   ],
   "source": [
    "inputs = data_frame.iloc[:,1:10].values\n",
    "outputs = data_frame['classificacao']\n",
    "\n",
    "inputs.shape, outputs.shape"
   ]
  },
  {
   "cell_type": "code",
   "execution_count": 4,
   "metadata": {},
   "outputs": [
    {
     "data": {
      "text/html": [
       "<div>\n",
       "<style scoped>\n",
       "    .dataframe tbody tr th:only-of-type {\n",
       "        vertical-align: middle;\n",
       "    }\n",
       "\n",
       "    .dataframe tbody tr th {\n",
       "        vertical-align: top;\n",
       "    }\n",
       "\n",
       "    .dataframe thead th {\n",
       "        text-align: right;\n",
       "    }\n",
       "</style>\n",
       "<table border=\"1\" class=\"dataframe\">\n",
       "  <thead>\n",
       "    <tr style=\"text-align: right;\">\n",
       "      <th></th>\n",
       "      <th>classificacao</th>\n",
       "      <th>entidades_nomeadas</th>\n",
       "      <th>adjetivos</th>\n",
       "      <th>triggers</th>\n",
       "      <th>intensifiers</th>\n",
       "      <th>modifiers</th>\n",
       "      <th>quotation_marks</th>\n",
       "      <th>repeated_punctuation</th>\n",
       "      <th>letters_repetition</th>\n",
       "      <th>word_repetition</th>\n",
       "    </tr>\n",
       "  </thead>\n",
       "  <tbody>\n",
       "    <tr>\n",
       "      <th>0</th>\n",
       "      <td>1</td>\n",
       "      <td>0</td>\n",
       "      <td>1</td>\n",
       "      <td>1</td>\n",
       "      <td>1</td>\n",
       "      <td>1</td>\n",
       "      <td>0</td>\n",
       "      <td>0</td>\n",
       "      <td>0</td>\n",
       "      <td>0</td>\n",
       "    </tr>\n",
       "  </tbody>\n",
       "</table>\n",
       "</div>"
      ],
      "text/plain": [
       "   classificacao  entidades_nomeadas  adjetivos  triggers  intensifiers  \\\n",
       "0              1                   0          1         1             1   \n",
       "\n",
       "   modifiers  quotation_marks  repeated_punctuation  letters_repetition  \\\n",
       "0          1                0                     0                   0   \n",
       "\n",
       "   word_repetition  \n",
       "0                0  "
      ]
     },
     "execution_count": 4,
     "metadata": {},
     "output_type": "execute_result"
    }
   ],
   "source": [
    "data_frame.head(1)"
   ]
  },
  {
   "cell_type": "markdown",
   "metadata": {},
   "source": [
    "### 2. Identificação da importância de cada feature\n",
    "https://medium.com/@aneesha/recursive-feature-elimination-with-scikit-learn-3a2cbdf23fb7\n",
    "\n",
    "https://machinelearningmastery.com/feature-selection-machine-learning-python/"
   ]
  },
  {
   "cell_type": "markdown",
   "metadata": {},
   "source": [
    "#### 2.1. Uitilizando Árvore de Decisão"
   ]
  },
  {
   "cell_type": "code",
   "execution_count": 24,
   "metadata": {},
   "outputs": [
    {
     "name": "stdout",
     "output_type": "stream",
     "text": [
      "[(0.3666, 'repeated_punctuation'), (0.1154, 'word_repetition'), (0.0983, 'adjetivos'), (0.0922, 'letters_repetition'), (0.0796, 'quotation_marks'), (0.0787, 'modifiers'), (0.0666, 'intensifiers'), (0.058, 'entidades_nomeadas'), (0.0446, 'triggers')]\n"
     ]
    }
   ],
   "source": [
    "# https://blog.datadive.net/selecting-good-features-part-iv-stability-selection-rfe-and-everything-side-by-side/\n",
    "# Feature Importance using Decision Tree\n",
    "from sklearn import datasets\n",
    "\n",
    "from sklearn import metrics\n",
    "from sklearn import tree\n",
    "\n",
    "classificador = tree.DecisionTreeClassifier()\n",
    "classificador.fit(inputs, outputs)\n",
    "\n",
    "columns_names = list(data_frame.iloc[:,1:10].columns.values)\n",
    "\n",
    "# display the relative importance of each attribute\n",
    "# print(data_frame.iloc[:,1:10].head(0))\n",
    "# print(classificador.feature_importances_)\n",
    "\n",
    "# print (\"Features sorted by their score:\")\n",
    "print (sorted(zip(map(lambda x: round(x, 4), classificador.feature_importances_), \n",
    "                 columns_names), reverse=True))"
   ]
  },
  {
   "cell_type": "code",
   "execution_count": 28,
   "metadata": {},
   "outputs": [
    {
     "name": "stdout",
     "output_type": "stream",
     "text": [
      "[(1, 'repeated_punctuation'), (2, 'adjetivos'), (3, 'quotation_marks'), (4, 'modifiers'), (5, 'letters_repetition'), (6, 'intensifiers'), (7, 'entidades_nomeadas'), (8, 'triggers'), (9, 'word_repetition')]\n"
     ]
    }
   ],
   "source": [
    "# Feature Importance using Logistic Regression\n",
    "from sklearn import datasets\n",
    "from sklearn.feature_selection import RFE\n",
    "from sklearn.linear_model import LogisticRegression\n",
    "\n",
    "classificador = LogisticRegression()\n",
    "\n",
    "columns_names = list(data_frame.iloc[:,1:10].columns.values)\n",
    "\n",
    "# create the RFE model and select 1 attribute\n",
    "rfe = RFE(classificador, 1)\n",
    "rfe = rfe.fit(inputs, outputs)\n",
    "\n",
    "# summarize the selection of the attributes\n",
    "# print(data_frame.iloc[:,1:10].head(0))\n",
    "# print(rfe.support_)\n",
    "# print(rfe.ranking_)\n",
    "\n",
    "print (sorted(zip(map(lambda x: round(x, 4), rfe.ranking_), \n",
    "                 columns_names), reverse=False))"
   ]
  },
  {
   "cell_type": "code",
   "execution_count": 30,
   "metadata": {},
   "outputs": [
    {
     "name": "stdout",
     "output_type": "stream",
     "text": [
      "[(1, 'repeated_punctuation'), (2, 'adjetivos'), (3, 'modifiers'), (4, 'quotation_marks'), (5, 'triggers'), (6, 'word_repetition'), (7, 'intensifiers'), (8, 'letters_repetition'), (9, 'entidades_nomeadas')]\n"
     ]
    }
   ],
   "source": [
    "# Feature Importance using SVM\n",
    "from sklearn import datasets\n",
    "from sklearn.feature_selection import RFE\n",
    "from sklearn import svm\n",
    "\n",
    "classificador = svm.SVC(gamma='auto', C=1.0, kernel='linear', probability=False)\n",
    "\n",
    "# create the RFE model and select 3 attributes\n",
    "rfe = RFE(classificador, 1)\n",
    "rfe = rfe.fit(inputs, outputs)\n",
    "\n",
    "columns_names = list(data_frame.iloc[:,1:10].columns.values)\n",
    "\n",
    "# summarize the selection of the attributes\n",
    "# print(data_frame.iloc[:,1:10].head(0))\n",
    "# print(rfe.support_)\n",
    "# print(rfe.ranking_)\n",
    "\n",
    "print (sorted(zip(map(lambda x: round(x, 4), rfe.ranking_), \n",
    "                 columns_names), reverse=False))"
   ]
  },
  {
   "cell_type": "code",
   "execution_count": null,
   "metadata": {},
   "outputs": [],
   "source": [
    "# Feature Importance using MLP Neural Network\n",
    "# https://www.kaggle.com/arpitvit/mlp-with-rfe-feature-selection\n",
    "from sklearn import datasets\n",
    "from sklearn.feature_selection import RFE\n",
    "from sklearn.neural_network import MLPClassifier\n",
    "\n",
    "classificador = MLPClassifier(activation='relu', solver='adam', max_iter=10000, alpha=1e-10)\n",
    "\n",
    "# create the RFE model and select 3 attributes\n",
    "rfe = RFE(classificador, 1)\n",
    "rfe = rfe.fit(inputs, outputs)\n",
    "\n",
    "# summarize the selection of the attributes\n",
    "print(data_frame.iloc[:,1:10].head(0))\n",
    "print(rfe.support_)\n",
    "print(rfe.ranking_)"
   ]
  },
  {
   "cell_type": "code",
   "execution_count": 26,
   "metadata": {},
   "outputs": [],
   "source": [
    "# # http://minerandodados.com.br/index.php/2018/05/21/feature-selection-bala-de-prata/\n",
    "# from sklearn import feature_selection\n",
    "# fs = feature_selection.SelectPercentile(feature_selection.f_classif, percentile=100)\n",
    "# # model = feature_selection.SelectKBest(score_func=feature_selection.f_regression, k=9)\n",
    "# X_treino_fs = fs.fit_transform(inputs, outputs)\n",
    "\n",
    "# # results = model.fit(df[columns], df['qsec'])\n",
    "\n",
    "# print(fs.scores_)\n",
    "# print(fs.pvalues_)\n",
    "\n",
    "# # x = pd.DataFrame(X_treino_fs)\n",
    "# # x\n",
    "\n",
    "# df1.head()"
   ]
  },
  {
   "cell_type": "code",
   "execution_count": 10,
   "metadata": {},
   "outputs": [
    {
     "name": "stdout",
     "output_type": "stream",
     "text": [
      "[ 2.921 12.93   1.065  3.458  1.714 14.538 74.572 10.755 25.53 ]\n",
      "[[0 1 1 1 1 0 0 0 0]\n",
      " [0 0 1 0 1 0 1 0 0]\n",
      " [0 0 1 0 1 0 0 1 0]\n",
      " [1 0 1 0 1 1 1 0 0]\n",
      " [0 0 1 0 0 0 1 0 0]\n",
      " [0 0 1 0 1 0 0 0 0]\n",
      " [0 1 1 1 1 0 0 0 0]\n",
      " [0 1 1 0 1 0 1 0 1]\n",
      " [0 0 1 0 1 0 0 0 0]\n",
      " [1 0 1 0 1 0 0 0 0]]\n",
      "[(74.5716, 'repeated_punctuation'), (25.53, 'word_repetition'), (14.5385, 'quotation_marks'), (12.9301, 'adjetivos'), (10.7553, 'letters_repetition'), (3.4575, 'intensifiers'), (2.921, 'entidades_nomeadas'), (1.7138, 'modifiers'), (1.0654, 'triggers')]\n"
     ]
    }
   ],
   "source": [
    "# Feature Extraction with Univariate Statistical Tests (Chi-squared for classification)\n",
    "import pandas\n",
    "import numpy\n",
    "from sklearn.feature_selection import SelectKBest\n",
    "from sklearn.feature_selection import chi2\n",
    "\n",
    "# feature extraction\n",
    "test = SelectKBest(score_func=chi2, k='all') #4\n",
    "fit = test.fit(inputs, outputs)\n",
    "\n",
    "columns_names = list(data_frame.iloc[:,1:10].columns.values)\n",
    "\n",
    "# summarize scores\n",
    "numpy.set_printoptions(precision=3)\n",
    "scores = fit.scores_\n",
    "print(scores)\n",
    "\n",
    "features = fit.transform(inputs)\n",
    "\n",
    "# summarize selected features\n",
    "print(features[0:10,:])\n",
    "\n",
    "print (sorted(zip(map(lambda x: round(x, 4), scores), \n",
    "                 columns_names), reverse=True))"
   ]
  },
  {
   "cell_type": "code",
   "execution_count": null,
   "metadata": {},
   "outputs": [],
   "source": []
  }
 ],
 "metadata": {
  "kernelspec": {
   "display_name": "Python 3",
   "language": "python",
   "name": "python3"
  },
  "language_info": {
   "codemirror_mode": {
    "name": "ipython",
    "version": 3
   },
   "file_extension": ".py",
   "mimetype": "text/x-python",
   "name": "python",
   "nbconvert_exporter": "python",
   "pygments_lexer": "ipython3",
   "version": "3.6.4"
  }
 },
 "nbformat": 4,
 "nbformat_minor": 2
}
