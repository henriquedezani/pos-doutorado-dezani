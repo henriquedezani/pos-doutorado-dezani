{
 "cells": [
  {
   "cell_type": "markdown",
   "metadata": {},
   "source": [
    "### 1. Carrega o arquivo com as sentenças, features e classificação"
   ]
  },
  {
   "cell_type": "code",
   "execution_count": 1,
   "metadata": {},
   "outputs": [],
   "source": [
    "import pandas as pd\n",
    "\n",
    "data_frame = pd.read_csv('dataset_sentencas_processadas_400.csv')\n",
    "\n",
    "# sentenca_original = sentenças obtidas do trabalho de Gabriela\n",
    "# sentenca_processada1 = remoção das anotações feitas por Gabriela\n",
    "# sentenca_processada2 = sem pontuações\n",
    "# sentenca_processada3_1 = sem acentos\n",
    "# sentenca_processada3_2 = sem stopwords\n",
    "# sentenca_processada3_3 = letras minúsculas\n",
    "# sentenca_processada3_4 = apenas as raizes das palavras (stemmer)"
   ]
  },
  {
   "cell_type": "code",
   "execution_count": 2,
   "metadata": {},
   "outputs": [
    {
     "data": {
      "text/html": [
       "<div>\n",
       "<style scoped>\n",
       "    .dataframe tbody tr th:only-of-type {\n",
       "        vertical-align: middle;\n",
       "    }\n",
       "\n",
       "    .dataframe tbody tr th {\n",
       "        vertical-align: top;\n",
       "    }\n",
       "\n",
       "    .dataframe thead th {\n",
       "        text-align: right;\n",
       "    }\n",
       "</style>\n",
       "<table border=\"1\" class=\"dataframe\">\n",
       "  <thead>\n",
       "    <tr style=\"text-align: right;\">\n",
       "      <th></th>\n",
       "      <th>classificacao</th>\n",
       "      <th>sentenca</th>\n",
       "      <th>sentenca_processada1</th>\n",
       "      <th>sentenca_processada2</th>\n",
       "      <th>sentenca_processada3_1</th>\n",
       "      <th>sentenca_processada3_2</th>\n",
       "      <th>sentenca_processada3_3</th>\n",
       "      <th>sentenca_processada3_4</th>\n",
       "    </tr>\n",
       "  </thead>\n",
       "  <tbody>\n",
       "    <tr>\n",
       "      <th>0</th>\n",
       "      <td>1.0</td>\n",
       "      <td>Parece estar no Reino da Dinamarca.</td>\n",
       "      <td>Parece estar no Reino da Dinamarca.</td>\n",
       "      <td>Parece estar no Reino da Dinamarca</td>\n",
       "      <td>Parece estar no Reino da Dinamarca</td>\n",
       "      <td>Parece estar Reino Dinamarca</td>\n",
       "      <td>parece estar reino dinamarca</td>\n",
       "      <td>parec est rein dinamarc</td>\n",
       "    </tr>\n",
       "  </tbody>\n",
       "</table>\n",
       "</div>"
      ],
      "text/plain": [
       "   classificacao                             sentenca  \\\n",
       "0            1.0  Parece estar no Reino da Dinamarca.   \n",
       "\n",
       "                  sentenca_processada1                sentenca_processada2  \\\n",
       "0  Parece estar no Reino da Dinamarca.  Parece estar no Reino da Dinamarca   \n",
       "\n",
       "               sentenca_processada3_1        sentenca_processada3_2  \\\n",
       "0  Parece estar no Reino da Dinamarca  Parece estar Reino Dinamarca   \n",
       "\n",
       "         sentenca_processada3_3   sentenca_processada3_4  \n",
       "0  parece estar reino dinamarca  parec est rein dinamarc  "
      ]
     },
     "execution_count": 2,
     "metadata": {},
     "output_type": "execute_result"
    }
   ],
   "source": [
    "data_frame.head(1)"
   ]
  },
  {
   "cell_type": "code",
   "execution_count": 3,
   "metadata": {},
   "outputs": [
    {
     "name": "stdout",
     "output_type": "stream",
     "text": [
      "0.0    200\n",
      "1.0    200\n",
      "Name: classificacao, dtype: int64\n"
     ]
    }
   ],
   "source": [
    "print(data_frame['classificacao'].value_counts())"
   ]
  },
  {
   "cell_type": "markdown",
   "metadata": {},
   "source": [
    "### 2. BOW (Bag of Words)"
   ]
  },
  {
   "cell_type": "code",
   "execution_count": 4,
   "metadata": {},
   "outputs": [],
   "source": [
    "from sklearn.feature_extraction.text import CountVectorizer\n",
    "\n",
    "vetorizar = CountVectorizer(lowercase = False) #, max_features=10000);\n",
    "\n",
    "bag_of_words = vetorizar.fit_transform(data_frame['sentenca_processada3_4'].values.astype('U'))\n",
    "\n",
    "vocabulario = vetorizar.get_feature_names()"
   ]
  },
  {
   "cell_type": "code",
   "execution_count": 5,
   "metadata": {},
   "outputs": [
    {
     "name": "stdout",
     "output_type": "stream",
     "text": [
      "(400, 1389)\n"
     ]
    }
   ],
   "source": [
    "print(bag_of_words.shape)"
   ]
  },
  {
   "cell_type": "markdown",
   "metadata": {},
   "source": [
    "#### 2.1. Utiliza 10-Fold Cross Validation para realizar os testes"
   ]
  },
  {
   "cell_type": "code",
   "execution_count": 6,
   "metadata": {},
   "outputs": [],
   "source": [
    "from sklearn.model_selection import cross_val_score"
   ]
  },
  {
   "cell_type": "code",
   "execution_count": 11,
   "metadata": {},
   "outputs": [
    {
     "name": "stdout",
     "output_type": "stream",
     "text": [
      "F1: 0.455 (+/- 0.17)\n",
      "Precision: 0.408 (+/- 0.23)\n",
      "Accuracy: 0.470 (+/- 0.17)\n",
      "Recall: 0.310 (+/- 0.22)\n"
     ]
    }
   ],
   "source": [
    "from sklearn import tree\n",
    "classificador = tree.DecisionTreeClassifier()\n",
    "\n",
    "scores = cross_val_score(classificador, bag_of_words, data_frame['classificacao'], cv=10, scoring='f1_micro')\n",
    "# print(scores)\n",
    "print(\"F1: %0.3f (+/- %0.2f)\" % (scores.mean(), scores.std() * 2))\n",
    "\n",
    "scores = cross_val_score(classificador, bag_of_words, data_frame['classificacao'], cv=10, scoring='precision')\n",
    "# print(scores)\n",
    "print(\"Precision: %0.3f (+/- %0.2f)\" % (scores.mean(), scores.std() * 2))\n",
    "\n",
    "scores = cross_val_score(classificador, bag_of_words, data_frame['classificacao'], cv=10, scoring='accuracy')\n",
    "# print(scores)\n",
    "print(\"Accuracy: %0.3f (+/- %0.2f)\" % (scores.mean(), scores.std() * 2))\n",
    "\n",
    "scores = cross_val_score(classificador, bag_of_words, data_frame['classificacao'], cv=10, scoring='recall')\n",
    "# print(scores)\n",
    "print(\"Recall: %0.3f (+/- %0.2f)\" % (scores.mean(), scores.std() * 2))"
   ]
  },
  {
   "cell_type": "code",
   "execution_count": 8,
   "metadata": {},
   "outputs": [
    {
     "name": "stdout",
     "output_type": "stream",
     "text": [
      "F1: 0.473 (+/- 0.18)\n",
      "Precision: 0.465 (+/- 0.24)\n",
      "Accuracy: 0.473 (+/- 0.18)\n",
      "Recall: 0.420 (+/- 0.27)\n"
     ]
    }
   ],
   "source": [
    "from sklearn.linear_model import LogisticRegression\n",
    "classificador = LogisticRegression(solver='lbfgs')\n",
    "\n",
    "scores = cross_val_score(classificador, bag_of_words, data_frame['classificacao'], cv=10, scoring='f1_micro')\n",
    "# print(scores)\n",
    "print(\"F1: %0.3f (+/- %0.2f)\" % (scores.mean(), scores.std() * 2))\n",
    "\n",
    "scores = cross_val_score(classificador, bag_of_words, data_frame['classificacao'], cv=10, scoring='precision')\n",
    "# print(scores)\n",
    "print(\"Precision: %0.3f (+/- %0.2f)\" % (scores.mean(), scores.std() * 2))\n",
    "\n",
    "scores = cross_val_score(classificador, bag_of_words, data_frame['classificacao'], cv=10, scoring='accuracy')\n",
    "# print(scores)\n",
    "print(\"Accuracy: %0.3f (+/- %0.2f)\" % (scores.mean(), scores.std() * 2))\n",
    "\n",
    "scores = cross_val_score(classificador, bag_of_words, data_frame['classificacao'], cv=10, scoring='recall')\n",
    "# print(scores)\n",
    "print(\"Recall: %0.3f (+/- %0.2f)\" % (scores.mean(), scores.std() * 2))"
   ]
  },
  {
   "cell_type": "code",
   "execution_count": 9,
   "metadata": {},
   "outputs": [
    {
     "name": "stdout",
     "output_type": "stream",
     "text": [
      "F1: 0.470 (+/- 0.19)\n",
      "Precision: 0.462 (+/- 0.22)\n",
      "Accuracy: 0.470 (+/- 0.19)\n",
      "Recall: 0.410 (+/- 0.30)\n"
     ]
    }
   ],
   "source": [
    "from sklearn import svm\n",
    "\n",
    "classificador = svm.SVC(gamma='auto', C=1.0, kernel='linear', probability=True)\n",
    "\n",
    "scores = cross_val_score(classificador, bag_of_words, data_frame['classificacao'], cv=10, scoring='f1_micro')\n",
    "# print(scores)\n",
    "print(\"F1: %0.3f (+/- %0.2f)\" % (scores.mean(), scores.std() * 2))\n",
    "\n",
    "scores = cross_val_score(classificador, bag_of_words, data_frame['classificacao'], cv=10, scoring='precision')\n",
    "# print(scores)\n",
    "print(\"Precision: %0.3f (+/- %0.2f)\" % (scores.mean(), scores.std() * 2))\n",
    "\n",
    "scores = cross_val_score(classificador, bag_of_words, data_frame['classificacao'], cv=10, scoring='accuracy')\n",
    "# print(scores)\n",
    "print(\"Accuracy: %0.3f (+/- %0.2f)\" % (scores.mean(), scores.std() * 2))\n",
    "\n",
    "scores = cross_val_score(classificador, bag_of_words, data_frame['classificacao'], cv=10, scoring='recall')\n",
    "# print(scores)\n",
    "print(\"Recall: %0.3f (+/- %0.2f)\" % (scores.mean(), scores.std() * 2))"
   ]
  },
  {
   "cell_type": "code",
   "execution_count": 10,
   "metadata": {},
   "outputs": [
    {
     "name": "stdout",
     "output_type": "stream",
     "text": [
      "F1: 0.480 (+/- 0.21)\n",
      "Precision: 0.455 (+/- 0.27)\n",
      "Accuracy: 0.477 (+/- 0.21)\n",
      "Recall: 0.375 (+/- 0.33)\n"
     ]
    }
   ],
   "source": [
    "from sklearn.neural_network import MLPClassifier\n",
    "\n",
    "classificador = MLPClassifier(activation='relu', max_iter=10000, solver='adam', alpha=1e-10)\n",
    "\n",
    "scores = cross_val_score(classificador, bag_of_words, data_frame['classificacao'], cv=10, scoring='f1_micro')\n",
    "# print(scores)\n",
    "print(\"F1: %0.3f (+/- %0.2f)\" % (scores.mean(), scores.std() * 2))\n",
    "\n",
    "scores = cross_val_score(classificador, bag_of_words, data_frame['classificacao'], cv=10, scoring='precision')\n",
    "# print(scores)\n",
    "print(\"Precision: %0.3f (+/- %0.2f)\" % (scores.mean(), scores.std() * 2))\n",
    "\n",
    "scores = cross_val_score(classificador, bag_of_words, data_frame['classificacao'], cv=10, scoring='accuracy')\n",
    "# print(scores)\n",
    "print(\"Accuracy: %0.3f (+/- %0.2f)\" % (scores.mean(), scores.std() * 2))\n",
    "\n",
    "scores = cross_val_score(classificador, bag_of_words, data_frame['classificacao'], cv=10, scoring='recall')\n",
    "# print(scores)\n",
    "print(\"Recall: %0.3f (+/- %0.2f)\" % (scores.mean(), scores.std() * 2))"
   ]
  },
  {
   "cell_type": "markdown",
   "metadata": {},
   "source": [
    "## Matrizes de Confusão"
   ]
  },
  {
   "cell_type": "code",
   "execution_count": 12,
   "metadata": {},
   "outputs": [
    {
     "name": "stdout",
     "output_type": "stream",
     "text": [
      "[[118  82]\n",
      " [140  60]]\n"
     ]
    }
   ],
   "source": [
    "from sklearn import tree\n",
    "classificador = tree.DecisionTreeClassifier()\n",
    "    \n",
    "from sklearn.model_selection import cross_val_predict\n",
    "y_pred = cross_val_predict(classificador, bag_of_words, data_frame['classificacao'], cv=10)\n",
    " \n",
    "from sklearn.metrics import confusion_matrix\n",
    "conf_mat = confusion_matrix(data_frame['classificacao'], y_pred)\n",
    "    \n",
    "print(conf_mat)"
   ]
  },
  {
   "cell_type": "code",
   "execution_count": 13,
   "metadata": {},
   "outputs": [
    {
     "name": "stdout",
     "output_type": "stream",
     "text": [
      "[[105  95]\n",
      " [116  84]]\n"
     ]
    }
   ],
   "source": [
    "from sklearn.linear_model import LogisticRegression\n",
    "classificador = LogisticRegression(solver='lbfgs')\n",
    "    \n",
    "from sklearn.model_selection import cross_val_predict\n",
    "y_pred = cross_val_predict(classificador, bag_of_words, data_frame['classificacao'], cv=10)\n",
    " \n",
    "from sklearn.metrics import confusion_matrix\n",
    "conf_mat = confusion_matrix(data_frame['classificacao'], y_pred)\n",
    "    \n",
    "print(conf_mat)"
   ]
  },
  {
   "cell_type": "code",
   "execution_count": 14,
   "metadata": {},
   "outputs": [
    {
     "name": "stdout",
     "output_type": "stream",
     "text": [
      "[[106  94]\n",
      " [118  82]]\n"
     ]
    }
   ],
   "source": [
    "from sklearn import svm\n",
    "classificador = svm.SVC(gamma='auto', C=1.0, kernel='linear', probability=True)\n",
    "    \n",
    "from sklearn.model_selection import cross_val_predict\n",
    "y_pred = cross_val_predict(classificador, bag_of_words, data_frame['classificacao'], cv=10)\n",
    " \n",
    "from sklearn.metrics import confusion_matrix\n",
    "conf_mat = confusion_matrix(data_frame['classificacao'], y_pred)\n",
    "    \n",
    "print(conf_mat)"
   ]
  },
  {
   "cell_type": "code",
   "execution_count": 15,
   "metadata": {},
   "outputs": [
    {
     "name": "stdout",
     "output_type": "stream",
     "text": [
      "[[116  84]\n",
      " [126  74]]\n"
     ]
    }
   ],
   "source": [
    "from sklearn.neural_network import MLPClassifier\n",
    "classificador = MLPClassifier(activation='relu', max_iter=10000, solver='adam', alpha=1e-10)\n",
    "    \n",
    "from sklearn.model_selection import cross_val_predict\n",
    "y_pred = cross_val_predict(classificador, bag_of_words, data_frame['classificacao'], cv=10)\n",
    " \n",
    "from sklearn.metrics import confusion_matrix\n",
    "conf_mat = confusion_matrix(data_frame['classificacao'], y_pred)\n",
    "    \n",
    "print(conf_mat)"
   ]
  },
  {
   "cell_type": "code",
   "execution_count": null,
   "metadata": {},
   "outputs": [],
   "source": []
  }
 ],
 "metadata": {
  "kernelspec": {
   "display_name": "Python 3",
   "language": "python",
   "name": "python3"
  },
  "language_info": {
   "codemirror_mode": {
    "name": "ipython",
    "version": 3
   },
   "file_extension": ".py",
   "mimetype": "text/x-python",
   "name": "python",
   "nbconvert_exporter": "python",
   "pygments_lexer": "ipython3",
   "version": "3.7.3"
  }
 },
 "nbformat": 4,
 "nbformat_minor": 2
}
